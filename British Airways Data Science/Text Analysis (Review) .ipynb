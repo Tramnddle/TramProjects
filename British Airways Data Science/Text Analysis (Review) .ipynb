{
 "cells": [
  {
   "cell_type": "code",
   "execution_count": 1,
   "id": "207fe37d",
   "metadata": {},
   "outputs": [],
   "source": [
    "import pandas as pd"
   ]
  },
  {
   "cell_type": "code",
   "execution_count": 2,
   "id": "36fe938d",
   "metadata": {},
   "outputs": [
    {
     "data": {
      "text/html": [
       "<div>\n",
       "<style scoped>\n",
       "    .dataframe tbody tr th:only-of-type {\n",
       "        vertical-align: middle;\n",
       "    }\n",
       "\n",
       "    .dataframe tbody tr th {\n",
       "        vertical-align: top;\n",
       "    }\n",
       "\n",
       "    .dataframe thead th {\n",
       "        text-align: right;\n",
       "    }\n",
       "</style>\n",
       "<table border=\"1\" class=\"dataframe\">\n",
       "  <thead>\n",
       "    <tr style=\"text-align: right;\">\n",
       "      <th></th>\n",
       "      <th>Unnamed: 0</th>\n",
       "      <th>reviews</th>\n",
       "    </tr>\n",
       "  </thead>\n",
       "  <tbody>\n",
       "    <tr>\n",
       "      <th>0</th>\n",
       "      <td>0</td>\n",
       "      <td>✅ Trip Verified |  Ground and cabin crew alway...</td>\n",
       "    </tr>\n",
       "    <tr>\n",
       "      <th>1</th>\n",
       "      <td>1</td>\n",
       "      <td>✅ Trip Verified |  My family flew from Washing...</td>\n",
       "    </tr>\n",
       "    <tr>\n",
       "      <th>2</th>\n",
       "      <td>2</td>\n",
       "      <td>✅ Trip Verified |  Easy check in a T5. Galleri...</td>\n",
       "    </tr>\n",
       "    <tr>\n",
       "      <th>3</th>\n",
       "      <td>3</td>\n",
       "      <td>Not Verified |  Flight delayed by an hour, it ...</td>\n",
       "    </tr>\n",
       "    <tr>\n",
       "      <th>4</th>\n",
       "      <td>4</td>\n",
       "      <td>Not Verified | The staff are very rude and not...</td>\n",
       "    </tr>\n",
       "    <tr>\n",
       "      <th>...</th>\n",
       "      <td>...</td>\n",
       "      <td>...</td>\n",
       "    </tr>\n",
       "    <tr>\n",
       "      <th>995</th>\n",
       "      <td>995</td>\n",
       "      <td>✅ Trip Verified |  London to Toronto. 14 day t...</td>\n",
       "    </tr>\n",
       "    <tr>\n",
       "      <th>996</th>\n",
       "      <td>996</td>\n",
       "      <td>✅ Trip Verified |  London to Vienna. I was sho...</td>\n",
       "    </tr>\n",
       "    <tr>\n",
       "      <th>997</th>\n",
       "      <td>997</td>\n",
       "      <td>✅ Trip Verified |  Johannesburg to London. I t...</td>\n",
       "    </tr>\n",
       "    <tr>\n",
       "      <th>998</th>\n",
       "      <td>998</td>\n",
       "      <td>✅ Trip Verified |  Singapore to London Heathro...</td>\n",
       "    </tr>\n",
       "    <tr>\n",
       "      <th>999</th>\n",
       "      <td>999</td>\n",
       "      <td>✅ Trip Verified |  London to Los Angeles. Book...</td>\n",
       "    </tr>\n",
       "  </tbody>\n",
       "</table>\n",
       "<p>1000 rows × 2 columns</p>\n",
       "</div>"
      ],
      "text/plain": [
       "     Unnamed: 0                                            reviews\n",
       "0             0  ✅ Trip Verified |  Ground and cabin crew alway...\n",
       "1             1  ✅ Trip Verified |  My family flew from Washing...\n",
       "2             2  ✅ Trip Verified |  Easy check in a T5. Galleri...\n",
       "3             3  Not Verified |  Flight delayed by an hour, it ...\n",
       "4             4  Not Verified | The staff are very rude and not...\n",
       "..          ...                                                ...\n",
       "995         995  ✅ Trip Verified |  London to Toronto. 14 day t...\n",
       "996         996  ✅ Trip Verified |  London to Vienna. I was sho...\n",
       "997         997  ✅ Trip Verified |  Johannesburg to London. I t...\n",
       "998         998  ✅ Trip Verified |  Singapore to London Heathro...\n",
       "999         999  ✅ Trip Verified |  London to Los Angeles. Book...\n",
       "\n",
       "[1000 rows x 2 columns]"
      ]
     },
     "execution_count": 2,
     "metadata": {},
     "output_type": "execute_result"
    }
   ],
   "source": [
    "Review=pd.read_csv('r D:\\British Airways Data Science\\BA_reviews.csv')\n",
    "Review"
   ]
  },
  {
   "cell_type": "code",
   "execution_count": 3,
   "id": "10189e60",
   "metadata": {},
   "outputs": [
    {
     "data": {
      "text/plain": [
       "0      ✅ Trip Verified |  Ground and cabin crew alway...\n",
       "1      ✅ Trip Verified |  My family flew from Washing...\n",
       "2      ✅ Trip Verified |  Easy check in a T5. Galleri...\n",
       "3      Not Verified |  Flight delayed by an hour, it ...\n",
       "4      Not Verified | The staff are very rude and not...\n",
       "                             ...                        \n",
       "995    ✅ Trip Verified |  London to Toronto. 14 day t...\n",
       "996    ✅ Trip Verified |  London to Vienna. I was sho...\n",
       "997    ✅ Trip Verified |  Johannesburg to London. I t...\n",
       "998    ✅ Trip Verified |  Singapore to London Heathro...\n",
       "999    ✅ Trip Verified |  London to Los Angeles. Book...\n",
       "Name: reviews, Length: 1000, dtype: object"
      ]
     },
     "execution_count": 3,
     "metadata": {},
     "output_type": "execute_result"
    }
   ],
   "source": [
    "Review['reviews']"
   ]
  },
  {
   "cell_type": "markdown",
   "id": "29aad33b",
   "metadata": {},
   "source": [
    "### Define pattern of special characters"
   ]
  },
  {
   "cell_type": "code",
   "execution_count": 4,
   "id": "ce84937c",
   "metadata": {},
   "outputs": [],
   "source": [
    "pattern = r'[^a-zA-Z0-9\\s|]'"
   ]
  },
  {
   "cell_type": "code",
   "execution_count": 5,
   "id": "f9f23f1b",
   "metadata": {},
   "outputs": [
    {
     "data": {
      "text/plain": [
       "0       Trip Verified |  Ground and cabin crew always...\n",
       "1       Trip Verified |  My family flew from Washingt...\n",
       "2       Trip Verified |  Easy check in a T5 Galleries...\n",
       "3      Not Verified |  Flight delayed by an hour it h...\n",
       "4      Not Verified | The staff are very rude and not...\n",
       "                             ...                        \n",
       "995     Trip Verified |  London to Toronto 14 day tri...\n",
       "996     Trip Verified |  London to Vienna I was shock...\n",
       "997     Trip Verified |  Johannesburg to London I ten...\n",
       "998     Trip Verified |  Singapore to London Heathrow...\n",
       "999     Trip Verified |  London to Los Angeles Booked...\n",
       "Name: reviews, Length: 1000, dtype: object"
      ]
     },
     "execution_count": 5,
     "metadata": {},
     "output_type": "execute_result"
    }
   ],
   "source": [
    "Review['reviews']=Review['reviews'].str.replace(pattern, '', regex=True)\n",
    "Review['reviews']"
   ]
  },
  {
   "cell_type": "code",
   "execution_count": 6,
   "id": "4b7d51c0",
   "metadata": {},
   "outputs": [
    {
     "data": {
      "text/html": [
       "<div>\n",
       "<style scoped>\n",
       "    .dataframe tbody tr th:only-of-type {\n",
       "        vertical-align: middle;\n",
       "    }\n",
       "\n",
       "    .dataframe tbody tr th {\n",
       "        vertical-align: top;\n",
       "    }\n",
       "\n",
       "    .dataframe thead th {\n",
       "        text-align: right;\n",
       "    }\n",
       "</style>\n",
       "<table border=\"1\" class=\"dataframe\">\n",
       "  <thead>\n",
       "    <tr style=\"text-align: right;\">\n",
       "      <th></th>\n",
       "      <th>0</th>\n",
       "      <th>1</th>\n",
       "    </tr>\n",
       "  </thead>\n",
       "  <tbody>\n",
       "    <tr>\n",
       "      <th>0</th>\n",
       "      <td>Trip Verified</td>\n",
       "      <td>Ground and cabin crew always provide good cu...</td>\n",
       "    </tr>\n",
       "    <tr>\n",
       "      <th>1</th>\n",
       "      <td>Trip Verified</td>\n",
       "      <td>My family flew from Washington to London on ...</td>\n",
       "    </tr>\n",
       "    <tr>\n",
       "      <th>2</th>\n",
       "      <td>Trip Verified</td>\n",
       "      <td>Easy check in a T5 Galleries south and North...</td>\n",
       "    </tr>\n",
       "    <tr>\n",
       "      <th>3</th>\n",
       "      <td>Not Verified</td>\n",
       "      <td>Flight delayed by an hour it happens no bigg...</td>\n",
       "    </tr>\n",
       "    <tr>\n",
       "      <th>4</th>\n",
       "      <td>Not Verified</td>\n",
       "      <td>The staff are very rude and not trained prope...</td>\n",
       "    </tr>\n",
       "    <tr>\n",
       "      <th>...</th>\n",
       "      <td>...</td>\n",
       "      <td>...</td>\n",
       "    </tr>\n",
       "    <tr>\n",
       "      <th>995</th>\n",
       "      <td>Trip Verified</td>\n",
       "      <td>London to Toronto 14 day trip to play golf w...</td>\n",
       "    </tr>\n",
       "    <tr>\n",
       "      <th>996</th>\n",
       "      <td>Trip Verified</td>\n",
       "      <td>London to Vienna I was shocked that BA provi...</td>\n",
       "    </tr>\n",
       "    <tr>\n",
       "      <th>997</th>\n",
       "      <td>Trip Verified</td>\n",
       "      <td>Johannesburg to London I tend to stay with a...</td>\n",
       "    </tr>\n",
       "    <tr>\n",
       "      <th>998</th>\n",
       "      <td>Trip Verified</td>\n",
       "      <td>Singapore to London Heathrow Its my first ti...</td>\n",
       "    </tr>\n",
       "    <tr>\n",
       "      <th>999</th>\n",
       "      <td>Trip Verified</td>\n",
       "      <td>London to Los Angeles Booked this trip eight...</td>\n",
       "    </tr>\n",
       "  </tbody>\n",
       "</table>\n",
       "<p>1000 rows × 2 columns</p>\n",
       "</div>"
      ],
      "text/plain": [
       "                   0                                                  1\n",
       "0     Trip Verified     Ground and cabin crew always provide good cu...\n",
       "1     Trip Verified     My family flew from Washington to London on ...\n",
       "2     Trip Verified     Easy check in a T5 Galleries south and North...\n",
       "3      Not Verified     Flight delayed by an hour it happens no bigg...\n",
       "4      Not Verified    The staff are very rude and not trained prope...\n",
       "..               ...                                                ...\n",
       "995   Trip Verified     London to Toronto 14 day trip to play golf w...\n",
       "996   Trip Verified     London to Vienna I was shocked that BA provi...\n",
       "997   Trip Verified     Johannesburg to London I tend to stay with a...\n",
       "998   Trip Verified     Singapore to London Heathrow Its my first ti...\n",
       "999   Trip Verified     London to Los Angeles Booked this trip eight...\n",
       "\n",
       "[1000 rows x 2 columns]"
      ]
     },
     "execution_count": 6,
     "metadata": {},
     "output_type": "execute_result"
    }
   ],
   "source": [
    "Split_reviews= Review['reviews'].str.split('|', expand=True)\n",
    "Split_reviews"
   ]
  },
  {
   "cell_type": "code",
   "execution_count": 7,
   "id": "53710492",
   "metadata": {},
   "outputs": [
    {
     "data": {
      "text/plain": [
       " Trip Verified     798\n",
       "Not Verified       200\n",
       " Not Verified        2\n",
       "Name: 0, dtype: int64"
      ]
     },
     "execution_count": 7,
     "metadata": {},
     "output_type": "execute_result"
    }
   ],
   "source": [
    "Split_reviews[0].value_counts()"
   ]
  },
  {
   "cell_type": "code",
   "execution_count": 49,
   "id": "49010028",
   "metadata": {},
   "outputs": [
    {
     "data": {
      "text/plain": [
       "Trip Verified    798\n",
       "Not Verified     202\n",
       "Name: 0, dtype: int64"
      ]
     },
     "execution_count": 49,
     "metadata": {},
     "output_type": "execute_result"
    }
   ],
   "source": [
    "# Remove leading and trailing spaces in columns\n",
    "Split_reviews=Split_reviews.apply(lambda c: c.str.strip())\n",
    "Split_reviews=pd.DataFrame(Split_reviews)"
   ]
  },
  {
   "cell_type": "code",
   "execution_count": 9,
   "id": "e5962265",
   "metadata": {},
   "outputs": [
    {
     "data": {
      "text/html": [
       "<div>\n",
       "<style scoped>\n",
       "    .dataframe tbody tr th:only-of-type {\n",
       "        vertical-align: middle;\n",
       "    }\n",
       "\n",
       "    .dataframe tbody tr th {\n",
       "        vertical-align: top;\n",
       "    }\n",
       "\n",
       "    .dataframe thead th {\n",
       "        text-align: right;\n",
       "    }\n",
       "</style>\n",
       "<table border=\"1\" class=\"dataframe\">\n",
       "  <thead>\n",
       "    <tr style=\"text-align: right;\">\n",
       "      <th></th>\n",
       "      <th>Id</th>\n",
       "      <th>Original reviews</th>\n",
       "      <th>Trip verified|Not verified</th>\n",
       "      <th>Reviews</th>\n",
       "    </tr>\n",
       "  </thead>\n",
       "  <tbody>\n",
       "    <tr>\n",
       "      <th>0</th>\n",
       "      <td>0</td>\n",
       "      <td>Trip Verified |  Ground and cabin crew always...</td>\n",
       "      <td>Trip Verified</td>\n",
       "      <td>Ground and cabin crew always provide good cust...</td>\n",
       "    </tr>\n",
       "    <tr>\n",
       "      <th>1</th>\n",
       "      <td>1</td>\n",
       "      <td>Trip Verified |  My family flew from Washingt...</td>\n",
       "      <td>Trip Verified</td>\n",
       "      <td>My family flew from Washington to London on a ...</td>\n",
       "    </tr>\n",
       "    <tr>\n",
       "      <th>2</th>\n",
       "      <td>2</td>\n",
       "      <td>Trip Verified |  Easy check in a T5 Galleries...</td>\n",
       "      <td>Trip Verified</td>\n",
       "      <td>Easy check in a T5 Galleries south and North l...</td>\n",
       "    </tr>\n",
       "    <tr>\n",
       "      <th>3</th>\n",
       "      <td>3</td>\n",
       "      <td>Not Verified |  Flight delayed by an hour it h...</td>\n",
       "      <td>Not Verified</td>\n",
       "      <td>Flight delayed by an hour it happens no biggie...</td>\n",
       "    </tr>\n",
       "    <tr>\n",
       "      <th>4</th>\n",
       "      <td>4</td>\n",
       "      <td>Not Verified | The staff are very rude and not...</td>\n",
       "      <td>Not Verified</td>\n",
       "      <td>The staff are very rude and not trained proper...</td>\n",
       "    </tr>\n",
       "    <tr>\n",
       "      <th>...</th>\n",
       "      <td>...</td>\n",
       "      <td>...</td>\n",
       "      <td>...</td>\n",
       "      <td>...</td>\n",
       "    </tr>\n",
       "    <tr>\n",
       "      <th>995</th>\n",
       "      <td>995</td>\n",
       "      <td>Trip Verified |  London to Toronto 14 day tri...</td>\n",
       "      <td>Trip Verified</td>\n",
       "      <td>London to Toronto 14 day trip to play golf wit...</td>\n",
       "    </tr>\n",
       "    <tr>\n",
       "      <th>996</th>\n",
       "      <td>996</td>\n",
       "      <td>Trip Verified |  London to Vienna I was shock...</td>\n",
       "      <td>Trip Verified</td>\n",
       "      <td>London to Vienna I was shocked that BA provide...</td>\n",
       "    </tr>\n",
       "    <tr>\n",
       "      <th>997</th>\n",
       "      <td>997</td>\n",
       "      <td>Trip Verified |  Johannesburg to London I ten...</td>\n",
       "      <td>Trip Verified</td>\n",
       "      <td>Johannesburg to London I tend to stay with an ...</td>\n",
       "    </tr>\n",
       "    <tr>\n",
       "      <th>998</th>\n",
       "      <td>998</td>\n",
       "      <td>Trip Verified |  Singapore to London Heathrow...</td>\n",
       "      <td>Trip Verified</td>\n",
       "      <td>Singapore to London Heathrow Its my first time...</td>\n",
       "    </tr>\n",
       "    <tr>\n",
       "      <th>999</th>\n",
       "      <td>999</td>\n",
       "      <td>Trip Verified |  London to Los Angeles Booked...</td>\n",
       "      <td>Trip Verified</td>\n",
       "      <td>London to Los Angeles Booked this trip eight m...</td>\n",
       "    </tr>\n",
       "  </tbody>\n",
       "</table>\n",
       "<p>1000 rows × 4 columns</p>\n",
       "</div>"
      ],
      "text/plain": [
       "      Id                                   Original reviews  \\\n",
       "0      0   Trip Verified |  Ground and cabin crew always...   \n",
       "1      1   Trip Verified |  My family flew from Washingt...   \n",
       "2      2   Trip Verified |  Easy check in a T5 Galleries...   \n",
       "3      3  Not Verified |  Flight delayed by an hour it h...   \n",
       "4      4  Not Verified | The staff are very rude and not...   \n",
       "..   ...                                                ...   \n",
       "995  995   Trip Verified |  London to Toronto 14 day tri...   \n",
       "996  996   Trip Verified |  London to Vienna I was shock...   \n",
       "997  997   Trip Verified |  Johannesburg to London I ten...   \n",
       "998  998   Trip Verified |  Singapore to London Heathrow...   \n",
       "999  999   Trip Verified |  London to Los Angeles Booked...   \n",
       "\n",
       "    Trip verified|Not verified  \\\n",
       "0                Trip Verified   \n",
       "1                Trip Verified   \n",
       "2                Trip Verified   \n",
       "3                 Not Verified   \n",
       "4                 Not Verified   \n",
       "..                         ...   \n",
       "995              Trip Verified   \n",
       "996              Trip Verified   \n",
       "997              Trip Verified   \n",
       "998              Trip Verified   \n",
       "999              Trip Verified   \n",
       "\n",
       "                                               Reviews  \n",
       "0    Ground and cabin crew always provide good cust...  \n",
       "1    My family flew from Washington to London on a ...  \n",
       "2    Easy check in a T5 Galleries south and North l...  \n",
       "3    Flight delayed by an hour it happens no biggie...  \n",
       "4    The staff are very rude and not trained proper...  \n",
       "..                                                 ...  \n",
       "995  London to Toronto 14 day trip to play golf wit...  \n",
       "996  London to Vienna I was shocked that BA provide...  \n",
       "997  Johannesburg to London I tend to stay with an ...  \n",
       "998  Singapore to London Heathrow Its my first time...  \n",
       "999  London to Los Angeles Booked this trip eight m...  \n",
       "\n",
       "[1000 rows x 4 columns]"
      ]
     },
     "execution_count": 9,
     "metadata": {},
     "output_type": "execute_result"
    }
   ],
   "source": [
    "Review=pd.concat([Review, Split_reviews], axis=1)\n",
    "Review.columns=['Id','Original reviews','Trip verified|Not verified','Reviews']\n",
    "Review"
   ]
  },
  {
   "cell_type": "markdown",
   "id": "7ee3ba66",
   "metadata": {},
   "source": [
    "## Sentiment Analysis"
   ]
  },
  {
   "cell_type": "code",
   "execution_count": 10,
   "id": "f30d85e8",
   "metadata": {},
   "outputs": [
    {
     "data": {
      "text/html": [
       "        <script type=\"text/javascript\">\n",
       "        window.PlotlyConfig = {MathJaxConfig: 'local'};\n",
       "        if (window.MathJax) {MathJax.Hub.Config({SVG: {font: \"STIX-Web\"}});}\n",
       "        if (typeof require !== 'undefined') {\n",
       "        require.undef(\"plotly\");\n",
       "        requirejs.config({\n",
       "            paths: {\n",
       "                'plotly': ['https://cdn.plot.ly/plotly-2.3.1.min']\n",
       "            }\n",
       "        });\n",
       "        require(['plotly'], function(Plotly) {\n",
       "            window._Plotly = Plotly;\n",
       "        });\n",
       "        }\n",
       "        </script>\n",
       "        "
      ]
     },
     "metadata": {},
     "output_type": "display_data"
    }
   ],
   "source": [
    "import matplotlib.pyplot as plt\n",
    "import seaborn as sns\n",
    "color = sns.color_palette()\n",
    "%matplotlib inline\n",
    "import plotly.offline as py\n",
    "py.init_notebook_mode(connected=True)\n",
    "import plotly.graph_objs as go\n",
    "import plotly.tools as tls\n",
    "import plotly.express as px"
   ]
  },
  {
   "cell_type": "code",
   "execution_count": 11,
   "id": "2fba6384",
   "metadata": {},
   "outputs": [
    {
     "data": {
      "text/html": [
       "<div>\n",
       "<style scoped>\n",
       "    .dataframe tbody tr th:only-of-type {\n",
       "        vertical-align: middle;\n",
       "    }\n",
       "\n",
       "    .dataframe tbody tr th {\n",
       "        vertical-align: top;\n",
       "    }\n",
       "\n",
       "    .dataframe thead th {\n",
       "        text-align: right;\n",
       "    }\n",
       "</style>\n",
       "<table border=\"1\" class=\"dataframe\">\n",
       "  <thead>\n",
       "    <tr style=\"text-align: right;\">\n",
       "      <th></th>\n",
       "      <th>Id</th>\n",
       "      <th>Original reviews</th>\n",
       "      <th>Trip verified|Not verified</th>\n",
       "      <th>Reviews</th>\n",
       "      <th>text_token</th>\n",
       "    </tr>\n",
       "  </thead>\n",
       "  <tbody>\n",
       "    <tr>\n",
       "      <th>0</th>\n",
       "      <td>0</td>\n",
       "      <td>Trip Verified |  Ground and cabin crew always...</td>\n",
       "      <td>Trip Verified</td>\n",
       "      <td>Ground and cabin crew always provide good cust...</td>\n",
       "      <td>[Ground, and, cabin, crew, always, provide, go...</td>\n",
       "    </tr>\n",
       "    <tr>\n",
       "      <th>1</th>\n",
       "      <td>1</td>\n",
       "      <td>Trip Verified |  My family flew from Washingt...</td>\n",
       "      <td>Trip Verified</td>\n",
       "      <td>My family flew from Washington to London on a ...</td>\n",
       "      <td>[My, family, flew, from, Washington, to, Londo...</td>\n",
       "    </tr>\n",
       "    <tr>\n",
       "      <th>2</th>\n",
       "      <td>2</td>\n",
       "      <td>Trip Verified |  Easy check in a T5 Galleries...</td>\n",
       "      <td>Trip Verified</td>\n",
       "      <td>Easy check in a T5 Galleries south and North l...</td>\n",
       "      <td>[Easy, check, in, a, T5, Galleries, south, and...</td>\n",
       "    </tr>\n",
       "    <tr>\n",
       "      <th>3</th>\n",
       "      <td>3</td>\n",
       "      <td>Not Verified |  Flight delayed by an hour it h...</td>\n",
       "      <td>Not Verified</td>\n",
       "      <td>Flight delayed by an hour it happens no biggie...</td>\n",
       "      <td>[Flight, delayed, by, an, hour, it, happens, n...</td>\n",
       "    </tr>\n",
       "    <tr>\n",
       "      <th>4</th>\n",
       "      <td>4</td>\n",
       "      <td>Not Verified | The staff are very rude and not...</td>\n",
       "      <td>Not Verified</td>\n",
       "      <td>The staff are very rude and not trained proper...</td>\n",
       "      <td>[The, staff, are, very, rude, and, not, traine...</td>\n",
       "    </tr>\n",
       "  </tbody>\n",
       "</table>\n",
       "</div>"
      ],
      "text/plain": [
       "   Id                                   Original reviews  \\\n",
       "0   0   Trip Verified |  Ground and cabin crew always...   \n",
       "1   1   Trip Verified |  My family flew from Washingt...   \n",
       "2   2   Trip Verified |  Easy check in a T5 Galleries...   \n",
       "3   3  Not Verified |  Flight delayed by an hour it h...   \n",
       "4   4  Not Verified | The staff are very rude and not...   \n",
       "\n",
       "  Trip verified|Not verified  \\\n",
       "0              Trip Verified   \n",
       "1              Trip Verified   \n",
       "2              Trip Verified   \n",
       "3               Not Verified   \n",
       "4               Not Verified   \n",
       "\n",
       "                                             Reviews  \\\n",
       "0  Ground and cabin crew always provide good cust...   \n",
       "1  My family flew from Washington to London on a ...   \n",
       "2  Easy check in a T5 Galleries south and North l...   \n",
       "3  Flight delayed by an hour it happens no biggie...   \n",
       "4  The staff are very rude and not trained proper...   \n",
       "\n",
       "                                          text_token  \n",
       "0  [Ground, and, cabin, crew, always, provide, go...  \n",
       "1  [My, family, flew, from, Washington, to, Londo...  \n",
       "2  [Easy, check, in, a, T5, Galleries, south, and...  \n",
       "3  [Flight, delayed, by, an, hour, it, happens, n...  \n",
       "4  [The, staff, are, very, rude, and, not, traine...  "
      ]
     },
     "execution_count": 11,
     "metadata": {},
     "output_type": "execute_result"
    }
   ],
   "source": [
    "import nltk\n",
    "from nltk.tokenize import RegexpTokenizer\n",
    "\n",
    "regexp = RegexpTokenizer('\\w+')\n",
    "\n",
    "Review['text_token']=Review['Reviews'].apply(regexp.tokenize)\n",
    "Review.head(5)"
   ]
  },
  {
   "cell_type": "code",
   "execution_count": 12,
   "id": "29259d93",
   "metadata": {},
   "outputs": [],
   "source": [
    "from nltk.corpus import stopwords\n",
    "\n",
    "# Make a list of english stopwords\n",
    "stopwords = nltk.corpus.stopwords.words(\"english\")"
   ]
  },
  {
   "cell_type": "code",
   "execution_count": 13,
   "id": "551817f7",
   "metadata": {},
   "outputs": [
    {
     "data": {
      "text/html": [
       "<div>\n",
       "<style scoped>\n",
       "    .dataframe tbody tr th:only-of-type {\n",
       "        vertical-align: middle;\n",
       "    }\n",
       "\n",
       "    .dataframe tbody tr th {\n",
       "        vertical-align: top;\n",
       "    }\n",
       "\n",
       "    .dataframe thead th {\n",
       "        text-align: right;\n",
       "    }\n",
       "</style>\n",
       "<table border=\"1\" class=\"dataframe\">\n",
       "  <thead>\n",
       "    <tr style=\"text-align: right;\">\n",
       "      <th></th>\n",
       "      <th>Id</th>\n",
       "      <th>Original reviews</th>\n",
       "      <th>Trip verified|Not verified</th>\n",
       "      <th>Reviews</th>\n",
       "      <th>text_token</th>\n",
       "    </tr>\n",
       "  </thead>\n",
       "  <tbody>\n",
       "    <tr>\n",
       "      <th>0</th>\n",
       "      <td>0</td>\n",
       "      <td>Trip Verified |  Ground and cabin crew always...</td>\n",
       "      <td>Trip Verified</td>\n",
       "      <td>Ground and cabin crew always provide good cust...</td>\n",
       "      <td>[Ground, cabin, crew, always, provide, good, c...</td>\n",
       "    </tr>\n",
       "    <tr>\n",
       "      <th>1</th>\n",
       "      <td>1</td>\n",
       "      <td>Trip Verified |  My family flew from Washingt...</td>\n",
       "      <td>Trip Verified</td>\n",
       "      <td>My family flew from Washington to London on a ...</td>\n",
       "      <td>[My, family, flew, Washington, London, British...</td>\n",
       "    </tr>\n",
       "    <tr>\n",
       "      <th>2</th>\n",
       "      <td>2</td>\n",
       "      <td>Trip Verified |  Easy check in a T5 Galleries...</td>\n",
       "      <td>Trip Verified</td>\n",
       "      <td>Easy check in a T5 Galleries south and North l...</td>\n",
       "      <td>[Easy, check, T5, Galleries, south, North, lou...</td>\n",
       "    </tr>\n",
       "    <tr>\n",
       "      <th>3</th>\n",
       "      <td>3</td>\n",
       "      <td>Not Verified |  Flight delayed by an hour it h...</td>\n",
       "      <td>Not Verified</td>\n",
       "      <td>Flight delayed by an hour it happens no biggie...</td>\n",
       "      <td>[Flight, delayed, hour, happens, biggie, Had, ...</td>\n",
       "    </tr>\n",
       "    <tr>\n",
       "      <th>4</th>\n",
       "      <td>4</td>\n",
       "      <td>Not Verified | The staff are very rude and not...</td>\n",
       "      <td>Not Verified</td>\n",
       "      <td>The staff are very rude and not trained proper...</td>\n",
       "      <td>[The, staff, rude, trained, properly, No, exce...</td>\n",
       "    </tr>\n",
       "  </tbody>\n",
       "</table>\n",
       "</div>"
      ],
      "text/plain": [
       "   Id                                   Original reviews  \\\n",
       "0   0   Trip Verified |  Ground and cabin crew always...   \n",
       "1   1   Trip Verified |  My family flew from Washingt...   \n",
       "2   2   Trip Verified |  Easy check in a T5 Galleries...   \n",
       "3   3  Not Verified |  Flight delayed by an hour it h...   \n",
       "4   4  Not Verified | The staff are very rude and not...   \n",
       "\n",
       "  Trip verified|Not verified  \\\n",
       "0              Trip Verified   \n",
       "1              Trip Verified   \n",
       "2              Trip Verified   \n",
       "3               Not Verified   \n",
       "4               Not Verified   \n",
       "\n",
       "                                             Reviews  \\\n",
       "0  Ground and cabin crew always provide good cust...   \n",
       "1  My family flew from Washington to London on a ...   \n",
       "2  Easy check in a T5 Galleries south and North l...   \n",
       "3  Flight delayed by an hour it happens no biggie...   \n",
       "4  The staff are very rude and not trained proper...   \n",
       "\n",
       "                                          text_token  \n",
       "0  [Ground, cabin, crew, always, provide, good, c...  \n",
       "1  [My, family, flew, Washington, London, British...  \n",
       "2  [Easy, check, T5, Galleries, south, North, lou...  \n",
       "3  [Flight, delayed, hour, happens, biggie, Had, ...  \n",
       "4  [The, staff, rude, trained, properly, No, exce...  "
      ]
     },
     "execution_count": 13,
     "metadata": {},
     "output_type": "execute_result"
    }
   ],
   "source": [
    "# Remove stopwords\n",
    "Review['text_token'] = Review['text_token'].apply(lambda x: [item for item in x if item not in stopwords])\n",
    "Review.head(5)"
   ]
  },
  {
   "cell_type": "code",
   "execution_count": 14,
   "id": "813eb4f9",
   "metadata": {},
   "outputs": [
    {
     "data": {
      "text/html": [
       "<div>\n",
       "<style scoped>\n",
       "    .dataframe tbody tr th:only-of-type {\n",
       "        vertical-align: middle;\n",
       "    }\n",
       "\n",
       "    .dataframe tbody tr th {\n",
       "        vertical-align: top;\n",
       "    }\n",
       "\n",
       "    .dataframe thead th {\n",
       "        text-align: right;\n",
       "    }\n",
       "</style>\n",
       "<table border=\"1\" class=\"dataframe\">\n",
       "  <thead>\n",
       "    <tr style=\"text-align: right;\">\n",
       "      <th></th>\n",
       "      <th>Reviews</th>\n",
       "      <th>text_token</th>\n",
       "      <th>text_string</th>\n",
       "    </tr>\n",
       "  </thead>\n",
       "  <tbody>\n",
       "    <tr>\n",
       "      <th>0</th>\n",
       "      <td>Ground and cabin crew always provide good cust...</td>\n",
       "      <td>[Ground, cabin, crew, always, provide, good, c...</td>\n",
       "      <td>Ground cabin crew always provide good customer...</td>\n",
       "    </tr>\n",
       "    <tr>\n",
       "      <th>1</th>\n",
       "      <td>My family flew from Washington to London on a ...</td>\n",
       "      <td>[My, family, flew, Washington, London, British...</td>\n",
       "      <td>family flew Washington London British Airways ...</td>\n",
       "    </tr>\n",
       "    <tr>\n",
       "      <th>2</th>\n",
       "      <td>Easy check in a T5 Galleries south and North l...</td>\n",
       "      <td>[Easy, check, T5, Galleries, south, North, lou...</td>\n",
       "      <td>Easy check Galleries south North lounges packe...</td>\n",
       "    </tr>\n",
       "    <tr>\n",
       "      <th>3</th>\n",
       "      <td>Flight delayed by an hour it happens no biggie...</td>\n",
       "      <td>[Flight, delayed, hour, happens, biggie, Had, ...</td>\n",
       "      <td>Flight delayed hour happens biggie Had change ...</td>\n",
       "    </tr>\n",
       "    <tr>\n",
       "      <th>4</th>\n",
       "      <td>The staff are very rude and not trained proper...</td>\n",
       "      <td>[The, staff, rude, trained, properly, No, exce...</td>\n",
       "      <td>The staff rude trained properly exceptions mad...</td>\n",
       "    </tr>\n",
       "  </tbody>\n",
       "</table>\n",
       "</div>"
      ],
      "text/plain": [
       "                                             Reviews  \\\n",
       "0  Ground and cabin crew always provide good cust...   \n",
       "1  My family flew from Washington to London on a ...   \n",
       "2  Easy check in a T5 Galleries south and North l...   \n",
       "3  Flight delayed by an hour it happens no biggie...   \n",
       "4  The staff are very rude and not trained proper...   \n",
       "\n",
       "                                          text_token  \\\n",
       "0  [Ground, cabin, crew, always, provide, good, c...   \n",
       "1  [My, family, flew, Washington, London, British...   \n",
       "2  [Easy, check, T5, Galleries, south, North, lou...   \n",
       "3  [Flight, delayed, hour, happens, biggie, Had, ...   \n",
       "4  [The, staff, rude, trained, properly, No, exce...   \n",
       "\n",
       "                                         text_string  \n",
       "0  Ground cabin crew always provide good customer...  \n",
       "1  family flew Washington London British Airways ...  \n",
       "2  Easy check Galleries south North lounges packe...  \n",
       "3  Flight delayed hour happens biggie Had change ...  \n",
       "4  The staff rude trained properly exceptions mad...  "
      ]
     },
     "execution_count": 14,
     "metadata": {},
     "output_type": "execute_result"
    }
   ],
   "source": [
    "# Change format of text_token to string and keep only words having length greater than or equal 2 letters\n",
    "Review['text_string'] = Review['text_token'].apply(lambda x: ' '.join([item for item in x if len(item)>2]))\n",
    "Review[['Reviews', 'text_token', 'text_string']].head()"
   ]
  },
  {
   "cell_type": "code",
   "execution_count": 15,
   "id": "1e1dbdee",
   "metadata": {},
   "outputs": [],
   "source": [
    "# Create a list of all words\n",
    "all_words = ' '.join([word for word in Review['text_string']])"
   ]
  },
  {
   "cell_type": "code",
   "execution_count": 16,
   "id": "da68c4d1",
   "metadata": {},
   "outputs": [],
   "source": [
    "#Tokenize all_words\n",
    "tokenized_words = nltk.tokenize.word_tokenize(all_words)"
   ]
  },
  {
   "cell_type": "code",
   "execution_count": 17,
   "id": "cc91a0a4",
   "metadata": {},
   "outputs": [
    {
     "data": {
      "text/plain": [
       "FreqDist({'flight': 1748, 'The': 1165, 'service': 654, 'London': 585, 'seat': 481, 'time': 467, 'crew': 421, 'good': 389, 'British': 384, 'seats': 384, ...})"
      ]
     },
     "execution_count": 17,
     "metadata": {},
     "output_type": "execute_result"
    }
   ],
   "source": [
    "#Create a frequency distribution which records the number of times each word has occurred:\n",
    "from nltk.probability import FreqDist\n",
    "fdist = FreqDist(tokenized_words)\n",
    "fdist"
   ]
  },
  {
   "cell_type": "code",
   "execution_count": 18,
   "id": "0ee7ac1e",
   "metadata": {},
   "outputs": [],
   "source": [
    "#Change format of text token to string with the item in the list having minimal frequency of occurence equal to 1\n",
    "Review['text_string_fdist'] = Review['text_token'].apply(lambda x: ' '.join([item for item in x if fdist[item] >= 1 ]))"
   ]
  },
  {
   "cell_type": "code",
   "execution_count": 19,
   "id": "2f17c527",
   "metadata": {},
   "outputs": [
    {
     "name": "stderr",
     "output_type": "stream",
     "text": [
      "[nltk_data] Downloading package wordnet to\n",
      "[nltk_data]     C:\\Users\\Tram\\AppData\\Roaming\\nltk_data...\n",
      "[nltk_data]   Package wordnet is already up-to-date!\n",
      "[nltk_data] Downloading package omw-1.4 to\n",
      "[nltk_data]     C:\\Users\\Tram\\AppData\\Roaming\\nltk_data...\n",
      "[nltk_data]   Package omw-1.4 is already up-to-date!\n"
     ]
    },
    {
     "data": {
      "text/plain": [
       "True"
      ]
     },
     "execution_count": 19,
     "metadata": {},
     "output_type": "execute_result"
    }
   ],
   "source": [
    "nltk.download('wordnet')\n",
    "nltk.download('omw-1.4')"
   ]
  },
  {
   "cell_type": "code",
   "execution_count": 20,
   "id": "ce80e47a",
   "metadata": {},
   "outputs": [],
   "source": [
    "from nltk.stem import WordNetLemmatizer\n",
    "\n",
    "wordnet_lem = WordNetLemmatizer()\n",
    "\n",
    "Review['text_string_lem'] = Review['text_string_fdist'].apply(wordnet_lem.lemmatize)"
   ]
  },
  {
   "cell_type": "code",
   "execution_count": 21,
   "id": "f69cdace",
   "metadata": {},
   "outputs": [],
   "source": [
    "# check if the columns are equal\n",
    "Review['is_equal']= (Review['text_string_fdist']==Review['text_string_lem'])"
   ]
  },
  {
   "cell_type": "code",
   "execution_count": 22,
   "id": "985dbcf4",
   "metadata": {},
   "outputs": [
    {
     "data": {
      "text/plain": [
       "True    1000\n",
       "Name: is_equal, dtype: int64"
      ]
     },
     "execution_count": 22,
     "metadata": {},
     "output_type": "execute_result"
    }
   ],
   "source": [
    "# show level count\n",
    "Review.is_equal.value_counts()"
   ]
  },
  {
   "cell_type": "code",
   "execution_count": 23,
   "id": "e6b0c377",
   "metadata": {},
   "outputs": [],
   "source": [
    "all_words_lem = ' '.join([word for word in Review['text_string_lem']])"
   ]
  },
  {
   "cell_type": "markdown",
   "id": "60f55910",
   "metadata": {},
   "source": [
    "#### Wordcloud"
   ]
  },
  {
   "cell_type": "code",
   "execution_count": 24,
   "id": "b42c95f4",
   "metadata": {},
   "outputs": [
    {
     "data": {
      "image/png": "[encoded data removed]",
      "text/plain": [
       "<Figure size 720x504 with 1 Axes>"
      ]
     },
     "metadata": {
      "needs_background": "light"
     },
     "output_type": "display_data"
    }
   ],
   "source": [
    "from wordcloud import WordCloud\n",
    "wordcloud = WordCloud(width=600, \n",
    "                     height=400, \n",
    "                     random_state=2, \n",
    "                     max_font_size=100).generate(all_words_lem)\n",
    "\n",
    "plt.figure(figsize=(10, 7))\n",
    "plt.imshow(wordcloud, interpolation='bilinear')\n",
    "plt.axis('off');"
   ]
  },
  {
   "cell_type": "markdown",
   "id": "b58c7ffa",
   "metadata": {},
   "source": [
    "#### Frequency distributions"
   ]
  },
  {
   "cell_type": "code",
   "execution_count": 25,
   "id": "c41c9174",
   "metadata": {},
   "outputs": [
    {
     "name": "stderr",
     "output_type": "stream",
     "text": [
      "[nltk_data] Downloading package punkt to\n",
      "[nltk_data]     C:\\Users\\Tram\\AppData\\Roaming\\nltk_data...\n",
      "[nltk_data]   Package punkt is already up-to-date!\n"
     ]
    },
    {
     "data": {
      "text/plain": [
       "True"
      ]
     },
     "execution_count": 25,
     "metadata": {},
     "output_type": "execute_result"
    }
   ],
   "source": [
    "nltk.download('punkt')"
   ]
  },
  {
   "cell_type": "code",
   "execution_count": 26,
   "id": "06e90942",
   "metadata": {},
   "outputs": [],
   "source": [
    "from nltk.tokenize import word_tokenize\n",
    "from nltk.probability import FreqDist\n",
    "\n",
    "words = nltk.word_tokenize(all_words_lem)\n",
    "fd = FreqDist(words)"
   ]
  },
  {
   "cell_type": "code",
   "execution_count": 27,
   "id": "a9f79c32",
   "metadata": {},
   "outputs": [
    {
     "data": {
      "text/plain": [
       "[('flight', 1748),\n",
       " ('The', 1165),\n",
       " ('service', 654),\n",
       " ('London', 585),\n",
       " ('seat', 481)]"
      ]
     },
     "execution_count": 27,
     "metadata": {},
     "output_type": "execute_result"
    }
   ],
   "source": [
    "# Most common words\n",
    "fd.most_common(5)"
   ]
  },
  {
   "cell_type": "code",
   "execution_count": 28,
   "id": "e8db9e09",
   "metadata": {},
   "outputs": [
    {
     "name": "stdout",
     "output_type": "stream",
     "text": [
      " flight     The service  London    seat    time    crew    good British   seats \n",
      "   1748    1165     654     585     481     467     421     389     384     384 \n"
     ]
    }
   ],
   "source": [
    "fd.tabulate(10)"
   ]
  },
  {
   "cell_type": "code",
   "execution_count": 29,
   "id": "c5fb2b5e",
   "metadata": {},
   "outputs": [],
   "source": [
    "# Obtain top 10 words\n",
    "top_10 = fd.most_common(10)\n",
    "\n",
    "# Create pandas series to make plotting easier\n",
    "fdist = pd.Series(dict(top_10))"
   ]
  },
  {
   "cell_type": "code",
   "execution_count": 30,
   "id": "83154c51",
   "metadata": {},
   "outputs": [
    {
     "data": {
      "image/png": "[encoded data removed]",
      "text/plain": [
       "<Figure size 432x288 with 1 Axes>"
      ]
     },
     "metadata": {},
     "output_type": "display_data"
    }
   ],
   "source": [
    "sns.set_theme(style=\"ticks\")\n",
    "sns.barplot(y=fdist.index, x=fdist.values, color='blue');"
   ]
  },
  {
   "cell_type": "code",
   "execution_count": 31,
   "id": "71753a01",
   "metadata": {},
   "outputs": [
    {
     "data": {
      "application/vnd.plotly.v1+json": {
       "config": {
        "plotlyServerURL": "https://plot.ly"
       },
       "data": [
        {
         "alignmentgroup": "True",
         "hovertemplate": "x=%{x}<br>y=%{y}<extra></extra>",
         "legendgroup": "",
         "marker": {
          "color": "#636efa",
          "pattern": {
           "shape": ""
          }
         },
         "name": "",
         "offsetgroup": "",
         "orientation": "h",
         "showlegend": false,
         "textposition": "auto",
         "type": "bar",
         "x": [
          1748,
          1165,
          654,
          585,
          481,
          467,
          421,
          389,
          384,
          384
         ],
         "xaxis": "x",
         "y": [
          "flight",
          "The",
          "service",
          "London",
          "seat",
          "time",
          "crew",
          "good",
          "British",
          "seats"
         ],
         "yaxis": "y"
        }
       ],
       "layout": {
        "barmode": "stack",
        "legend": {
         "tracegroupgap": 0
        },
        "margin": {
         "t": 60
        },
        "template": {
         "data": {
          "bar": [
           {
            "error_x": {
             "color": "#2a3f5f"
            },
            "error_y": {
             "color": "#2a3f5f"
            },
            "marker": {
             "line": {
              "color": "#E5ECF6",
              "width": 0.5
             },
             "pattern": {
              "fillmode": "overlay",
              "size": 10,
              "solidity": 0.2
             }
            },
            "type": "bar"
           }
          ],
          "barpolar": [
           {
            "marker": {
             "line": {
              "color": "#E5ECF6",
              "width": 0.5
             },
             "pattern": {
              "fillmode": "overlay",
              "size": 10,
              "solidity": 0.2
             }
            },
            "type": "barpolar"
           }
          ],
          "carpet": [
           {
            "aaxis": {
             "endlinecolor": "#2a3f5f",
             "gridcolor": "white",
             "linecolor": "white",
             "minorgridcolor": "white",
             "startlinecolor": "#2a3f5f"
            },
            "baxis": {
             "endlinecolor": "#2a3f5f",
             "gridcolor": "white",
             "linecolor": "white",
             "minorgridcolor": "white",
             "startlinecolor": "#2a3f5f"
            },
            "type": "carpet"
           }
          ],
          "choropleth": [
           {
            "colorbar": {
             "outlinewidth": 0,
             "ticks": ""
            },
            "type": "choropleth"
           }
          ],
          "contour": [
           {
            "colorbar": {
             "outlinewidth": 0,
             "ticks": ""
            },
            "colorscale": [
             [
              0,
              "#0d0887"
             ],
             [
              0.1111111111111111,
              "#46039f"
             ],
             [
              0.2222222222222222,
              "#7201a8"
             ],
             [
              0.3333333333333333,
              "#9c179e"
             ],
             [
              0.4444444444444444,
              "#bd3786"
             ],
             [
              0.5555555555555556,
              "#d8576b"
             ],
             [
              0.6666666666666666,
              "#ed7953"
             ],
             [
              0.7777777777777778,
              "#fb9f3a"
             ],
             [
              0.8888888888888888,
              "#fdca26"
             ],
             [
              1,
              "#f0f921"
             ]
            ],
            "type": "contour"
           }
          ],
          "contourcarpet": [
           {
            "colorbar": {
             "outlinewidth": 0,
             "ticks": ""
            },
            "type": "contourcarpet"
           }
          ],
          "heatmap": [
           {
            "colorbar": {
             "outlinewidth": 0,
             "ticks": ""
            },
            "colorscale": [
             [
              0,
              "#0d0887"
             ],
             [
              0.1111111111111111,
              "#46039f"
             ],
             [
              0.2222222222222222,
              "#7201a8"
             ],
             [
              0.3333333333333333,
              "#9c179e"
             ],
             [
              0.4444444444444444,
              "#bd3786"
             ],
             [
              0.5555555555555556,
              "#d8576b"
             ],
             [
              0.6666666666666666,
              "#ed7953"
             ],
             [
              0.7777777777777778,
              "#fb9f3a"
             ],
             [
              0.8888888888888888,
              "#fdca26"
             ],
             [
              1,
              "#f0f921"
             ]
            ],
            "type": "heatmap"
           }
          ],
          "heatmapgl": [
           {
            "colorbar": {
             "outlinewidth": 0,
             "ticks": ""
            },
            "colorscale": [
             [
              0,
              "#0d0887"
             ],
             [
              0.1111111111111111,
              "#46039f"
             ],
             [
              0.2222222222222222,
              "#7201a8"
             ],
             [
              0.3333333333333333,
              "#9c179e"
             ],
             [
              0.4444444444444444,
              "#bd3786"
             ],
             [
              0.5555555555555556,
              "#d8576b"
             ],
             [
              0.6666666666666666,
              "#ed7953"
             ],
             [
              0.7777777777777778,
              "#fb9f3a"
             ],
             [
              0.8888888888888888,
              "#fdca26"
             ],
             [
              1,
              "#f0f921"
             ]
            ],
            "type": "heatmapgl"
           }
          ],
          "histogram": [
           {
            "marker": {
             "pattern": {
              "fillmode": "overlay",
              "size": 10,
              "solidity": 0.2
             }
            },
            "type": "histogram"
           }
          ],
          "histogram2d": [
           {
            "colorbar": {
             "outlinewidth": 0,
             "ticks": ""
            },
            "colorscale": [
             [
              0,
              "#0d0887"
             ],
             [
              0.1111111111111111,
              "#46039f"
             ],
             [
              0.2222222222222222,
              "#7201a8"
             ],
             [
              0.3333333333333333,
              "#9c179e"
             ],
             [
              0.4444444444444444,
              "#bd3786"
             ],
             [
              0.5555555555555556,
              "#d8576b"
             ],
             [
              0.6666666666666666,
              "#ed7953"
             ],
             [
              0.7777777777777778,
              "#fb9f3a"
             ],
             [
              0.8888888888888888,
              "#fdca26"
             ],
             [
              1,
              "#f0f921"
             ]
            ],
            "type": "histogram2d"
           }
          ],
          "histogram2dcontour": [
           {
            "colorbar": {
             "outlinewidth": 0,
             "ticks": ""
            },
            "colorscale": [
             [
              0,
              "#0d0887"
             ],
             [
              0.1111111111111111,
              "#46039f"
             ],
             [
              0.2222222222222222,
              "#7201a8"
             ],
             [
              0.3333333333333333,
              "#9c179e"
             ],
             [
              0.4444444444444444,
              "#bd3786"
             ],
             [
              0.5555555555555556,
              "#d8576b"
             ],
             [
              0.6666666666666666,
              "#ed7953"
             ],
             [
              0.7777777777777778,
              "#fb9f3a"
             ],
             [
              0.8888888888888888,
              "#fdca26"
             ],
             [
              1,
              "#f0f921"
             ]
            ],
            "type": "histogram2dcontour"
           }
          ],
          "mesh3d": [
           {
            "colorbar": {
             "outlinewidth": 0,
             "ticks": ""
            },
            "type": "mesh3d"
           }
          ],
          "parcoords": [
           {
            "line": {
             "colorbar": {
              "outlinewidth": 0,
              "ticks": ""
             }
            },
            "type": "parcoords"
           }
          ],
          "pie": [
           {
            "automargin": true,
            "type": "pie"
           }
          ],
          "scatter": [
           {
            "marker": {
             "colorbar": {
              "outlinewidth": 0,
              "ticks": ""
             }
            },
            "type": "scatter"
           }
          ],
          "scatter3d": [
           {
            "line": {
             "colorbar": {
              "outlinewidth": 0,
              "ticks": ""
             }
            },
            "marker": {
             "colorbar": {
              "outlinewidth": 0,
              "ticks": ""
             }
            },
            "type": "scatter3d"
           }
          ],
          "scattercarpet": [
           {
            "marker": {
             "colorbar": {
              "outlinewidth": 0,
              "ticks": ""
             }
            },
            "type": "scattercarpet"
           }
          ],
          "scattergeo": [
           {
            "marker": {
             "colorbar": {
              "outlinewidth": 0,
              "ticks": ""
             }
            },
            "type": "scattergeo"
           }
          ],
          "scattergl": [
           {
            "marker": {
             "colorbar": {
              "outlinewidth": 0,
              "ticks": ""
             }
            },
            "type": "scattergl"
           }
          ],
          "scattermapbox": [
           {
            "marker": {
             "colorbar": {
              "outlinewidth": 0,
              "ticks": ""
             }
            },
            "type": "scattermapbox"
           }
          ],
          "scatterpolar": [
           {
            "marker": {
             "colorbar": {
              "outlinewidth": 0,
              "ticks": ""
             }
            },
            "type": "scatterpolar"
           }
          ],
          "scatterpolargl": [
           {
            "marker": {
             "colorbar": {
              "outlinewidth": 0,
              "ticks": ""
             }
            },
            "type": "scatterpolargl"
           }
          ],
          "scatterternary": [
           {
            "marker": {
             "colorbar": {
              "outlinewidth": 0,
              "ticks": ""
             }
            },
            "type": "scatterternary"
           }
          ],
          "surface": [
           {
            "colorbar": {
             "outlinewidth": 0,
             "ticks": ""
            },
            "colorscale": [
             [
              0,
              "#0d0887"
             ],
             [
              0.1111111111111111,
              "#46039f"
             ],
             [
              0.2222222222222222,
              "#7201a8"
             ],
             [
              0.3333333333333333,
              "#9c179e"
             ],
             [
              0.4444444444444444,
              "#bd3786"
             ],
             [
              0.5555555555555556,
              "#d8576b"
             ],
             [
              0.6666666666666666,
              "#ed7953"
             ],
             [
              0.7777777777777778,
              "#fb9f3a"
             ],
             [
              0.8888888888888888,
              "#fdca26"
             ],
             [
              1,
              "#f0f921"
             ]
            ],
            "type": "surface"
           }
          ],
          "table": [
           {
            "cells": {
             "fill": {
              "color": "#EBF0F8"
             },
             "line": {
              "color": "white"
             }
            },
            "header": {
             "fill": {
              "color": "#C8D4E3"
             },
             "line": {
              "color": "white"
             }
            },
            "type": "table"
           }
          ]
         },
         "layout": {
          "annotationdefaults": {
           "arrowcolor": "#2a3f5f",
           "arrowhead": 0,
           "arrowwidth": 1
          },
          "autotypenumbers": "strict",
          "coloraxis": {
           "colorbar": {
            "outlinewidth": 0,
            "ticks": ""
           }
          },
          "colorscale": {
           "diverging": [
            [
             0,
             "#8e0152"
            ],
            [
             0.1,
             "#c51b7d"
            ],
            [
             0.2,
             "#de77ae"
            ],
            [
             0.3,
             "#f1b6da"
            ],
            [
             0.4,
             "#fde0ef"
            ],
            [
             0.5,
             "#f7f7f7"
            ],
            [
             0.6,
             "#e6f5d0"
            ],
            [
             0.7,
             "#b8e186"
            ],
            [
             0.8,
             "#7fbc41"
            ],
            [
             0.9,
             "#4d9221"
            ],
            [
             1,
             "#276419"
            ]
           ],
           "sequential": [
            [
             0,
             "#0d0887"
            ],
            [
             0.1111111111111111,
             "#46039f"
            ],
            [
             0.2222222222222222,
             "#7201a8"
            ],
            [
             0.3333333333333333,
             "#9c179e"
            ],
            [
             0.4444444444444444,
             "#bd3786"
            ],
            [
             0.5555555555555556,
             "#d8576b"
            ],
            [
             0.6666666666666666,
             "#ed7953"
            ],
            [
             0.7777777777777778,
             "#fb9f3a"
            ],
            [
             0.8888888888888888,
             "#fdca26"
            ],
            [
             1,
             "#f0f921"
            ]
           ],
           "sequentialminus": [
            [
             0,
             "#0d0887"
            ],
            [
             0.1111111111111111,
             "#46039f"
            ],
            [
             0.2222222222222222,
             "#7201a8"
            ],
            [
             0.3333333333333333,
             "#9c179e"
            ],
            [
             0.4444444444444444,
             "#bd3786"
            ],
            [
             0.5555555555555556,
             "#d8576b"
            ],
            [
             0.6666666666666666,
             "#ed7953"
            ],
            [
             0.7777777777777778,
             "#fb9f3a"
            ],
            [
             0.8888888888888888,
             "#fdca26"
            ],
            [
             1,
             "#f0f921"
            ]
           ]
          },
          "colorway": [
           "#636efa",
           "#EF553B",
           "#00cc96",
           "#ab63fa",
           "#FFA15A",
           "#19d3f3",
           "#FF6692",
           "#B6E880",
           "#FF97FF",
           "#FECB52"
          ],
          "font": {
           "color": "#2a3f5f"
          },
          "geo": {
           "bgcolor": "white",
           "lakecolor": "white",
           "landcolor": "#E5ECF6",
           "showlakes": true,
           "showland": true,
           "subunitcolor": "white"
          },
          "hoverlabel": {
           "align": "left"
          },
          "hovermode": "closest",
          "mapbox": {
           "style": "light"
          },
          "paper_bgcolor": "white",
          "plot_bgcolor": "#E5ECF6",
          "polar": {
           "angularaxis": {
            "gridcolor": "white",
            "linecolor": "white",
            "ticks": ""
           },
           "bgcolor": "#E5ECF6",
           "radialaxis": {
            "gridcolor": "white",
            "linecolor": "white",
            "ticks": ""
           }
          },
          "scene": {
           "xaxis": {
            "backgroundcolor": "#E5ECF6",
            "gridcolor": "white",
            "gridwidth": 2,
            "linecolor": "white",
            "showbackground": true,
            "ticks": "",
            "zerolinecolor": "white"
           },
           "yaxis": {
            "backgroundcolor": "#E5ECF6",
            "gridcolor": "white",
            "gridwidth": 2,
            "linecolor": "white",
            "showbackground": true,
            "ticks": "",
            "zerolinecolor": "white"
           },
           "zaxis": {
            "backgroundcolor": "#E5ECF6",
            "gridcolor": "white",
            "gridwidth": 2,
            "linecolor": "white",
            "showbackground": true,
            "ticks": "",
            "zerolinecolor": "white"
           }
          },
          "shapedefaults": {
           "line": {
            "color": "#2a3f5f"
           }
          },
          "ternary": {
           "aaxis": {
            "gridcolor": "white",
            "linecolor": "white",
            "ticks": ""
           },
           "baxis": {
            "gridcolor": "white",
            "linecolor": "white",
            "ticks": ""
           },
           "bgcolor": "#E5ECF6",
           "caxis": {
            "gridcolor": "white",
            "linecolor": "white",
            "ticks": ""
           }
          },
          "title": {
           "x": 0.05
          },
          "xaxis": {
           "automargin": true,
           "gridcolor": "white",
           "linecolor": "white",
           "ticks": "",
           "title": {
            "standoff": 15
           },
           "zerolinecolor": "white",
           "zerolinewidth": 2
          },
          "yaxis": {
           "automargin": true,
           "gridcolor": "white",
           "linecolor": "white",
           "ticks": "",
           "title": {
            "standoff": 15
           },
           "zerolinecolor": "white",
           "zerolinewidth": 2
          }
         }
        },
        "xaxis": {
         "anchor": "y",
         "domain": [
          0,
          1
         ],
         "title": {
          "text": "x"
         }
        },
        "yaxis": {
         "anchor": "x",
         "categoryorder": "total ascending",
         "domain": [
          0,
          1
         ],
         "title": {
          "text": "y"
         }
        }
       }
      },
      "text/html": [
       "<div>                            <div id=\"81eb21f9-5cd0-4c54-9ccb-0403bd11326f\" class=\"plotly-graph-div\" style=\"height:525px; width:100%;\"></div>            <script type=\"text/javascript\">                require([\"plotly\"], function(Plotly) {                    window.PLOTLYENV=window.PLOTLYENV || {};                                    if (document.getElementById(\"81eb21f9-5cd0-4c54-9ccb-0403bd11326f\")) {                    Plotly.newPlot(                        \"81eb21f9-5cd0-4c54-9ccb-0403bd11326f\",                        [{\"alignmentgroup\":\"True\",\"hovertemplate\":\"x=%{x}<br>y=%{y}<extra></extra>\",\"legendgroup\":\"\",\"marker\":{\"color\":\"#636efa\",\"pattern\":{\"shape\":\"\"}},\"name\":\"\",\"offsetgroup\":\"\",\"orientation\":\"h\",\"showlegend\":false,\"textposition\":\"auto\",\"type\":\"bar\",\"x\":[1748,1165,654,585,481,467,421,389,384,384],\"xaxis\":\"x\",\"y\":[\"flight\",\"The\",\"service\",\"London\",\"seat\",\"time\",\"crew\",\"good\",\"British\",\"seats\"],\"yaxis\":\"y\"}],                        {\"barmode\":\"stack\",\"legend\":{\"tracegroupgap\":0},\"margin\":{\"t\":60},\"template\":{\"data\":{\"bar\":[{\"error_x\":{\"color\":\"#2a3f5f\"},\"error_y\":{\"color\":\"#2a3f5f\"},\"marker\":{\"line\":{\"color\":\"#E5ECF6\",\"width\":0.5},\"pattern\":{\"fillmode\":\"overlay\",\"size\":10,\"solidity\":0.2}},\"type\":\"bar\"}],\"barpolar\":[{\"marker\":{\"line\":{\"color\":\"#E5ECF6\",\"width\":0.5},\"pattern\":{\"fillmode\":\"overlay\",\"size\":10,\"solidity\":0.2}},\"type\":\"barpolar\"}],\"carpet\":[{\"aaxis\":{\"endlinecolor\":\"#2a3f5f\",\"gridcolor\":\"white\",\"linecolor\":\"white\",\"minorgridcolor\":\"white\",\"startlinecolor\":\"#2a3f5f\"},\"baxis\":{\"endlinecolor\":\"#2a3f5f\",\"gridcolor\":\"white\",\"linecolor\":\"white\",\"minorgridcolor\":\"white\",\"startlinecolor\":\"#2a3f5f\"},\"type\":\"carpet\"}],\"choropleth\":[{\"colorbar\":{\"outlinewidth\":0,\"ticks\":\"\"},\"type\":\"choropleth\"}],\"contour\":[{\"colorbar\":{\"outlinewidth\":0,\"ticks\":\"\"},\"colorscale\":[[0.0,\"#0d0887\"],[0.1111111111111111,\"#46039f\"],[0.2222222222222222,\"#7201a8\"],[0.3333333333333333,\"#9c179e\"],[0.4444444444444444,\"#bd3786\"],[0.5555555555555556,\"#d8576b\"],[0.6666666666666666,\"#ed7953\"],[0.7777777777777778,\"#fb9f3a\"],[0.8888888888888888,\"#fdca26\"],[1.0,\"#f0f921\"]],\"type\":\"contour\"}],\"contourcarpet\":[{\"colorbar\":{\"outlinewidth\":0,\"ticks\":\"\"},\"type\":\"contourcarpet\"}],\"heatmap\":[{\"colorbar\":{\"outlinewidth\":0,\"ticks\":\"\"},\"colorscale\":[[0.0,\"#0d0887\"],[0.1111111111111111,\"#46039f\"],[0.2222222222222222,\"#7201a8\"],[0.3333333333333333,\"#9c179e\"],[0.4444444444444444,\"#bd3786\"],[0.5555555555555556,\"#d8576b\"],[0.6666666666666666,\"#ed7953\"],[0.7777777777777778,\"#fb9f3a\"],[0.8888888888888888,\"#fdca26\"],[1.0,\"#f0f921\"]],\"type\":\"heatmap\"}],\"heatmapgl\":[{\"colorbar\":{\"outlinewidth\":0,\"ticks\":\"\"},\"colorscale\":[[0.0,\"#0d0887\"],[0.1111111111111111,\"#46039f\"],[0.2222222222222222,\"#7201a8\"],[0.3333333333333333,\"#9c179e\"],[0.4444444444444444,\"#bd3786\"],[0.5555555555555556,\"#d8576b\"],[0.6666666666666666,\"#ed7953\"],[0.7777777777777778,\"#fb9f3a\"],[0.8888888888888888,\"#fdca26\"],[1.0,\"#f0f921\"]],\"type\":\"heatmapgl\"}],\"histogram\":[{\"marker\":{\"pattern\":{\"fillmode\":\"overlay\",\"size\":10,\"solidity\":0.2}},\"type\":\"histogram\"}],\"histogram2d\":[{\"colorbar\":{\"outlinewidth\":0,\"ticks\":\"\"},\"colorscale\":[[0.0,\"#0d0887\"],[0.1111111111111111,\"#46039f\"],[0.2222222222222222,\"#7201a8\"],[0.3333333333333333,\"#9c179e\"],[0.4444444444444444,\"#bd3786\"],[0.5555555555555556,\"#d8576b\"],[0.6666666666666666,\"#ed7953\"],[0.7777777777777778,\"#fb9f3a\"],[0.8888888888888888,\"#fdca26\"],[1.0,\"#f0f921\"]],\"type\":\"histogram2d\"}],\"histogram2dcontour\":[{\"colorbar\":{\"outlinewidth\":0,\"ticks\":\"\"},\"colorscale\":[[0.0,\"#0d0887\"],[0.1111111111111111,\"#46039f\"],[0.2222222222222222,\"#7201a8\"],[0.3333333333333333,\"#9c179e\"],[0.4444444444444444,\"#bd3786\"],[0.5555555555555556,\"#d8576b\"],[0.6666666666666666,\"#ed7953\"],[0.7777777777777778,\"#fb9f3a\"],[0.8888888888888888,\"#fdca26\"],[1.0,\"#f0f921\"]],\"type\":\"histogram2dcontour\"}],\"mesh3d\":[{\"colorbar\":{\"outlinewidth\":0,\"ticks\":\"\"},\"type\":\"mesh3d\"}],\"parcoords\":[{\"line\":{\"colorbar\":{\"outlinewidth\":0,\"ticks\":\"\"}},\"type\":\"parcoords\"}],\"pie\":[{\"automargin\":true,\"type\":\"pie\"}],\"scatter\":[{\"marker\":{\"colorbar\":{\"outlinewidth\":0,\"ticks\":\"\"}},\"type\":\"scatter\"}],\"scatter3d\":[{\"line\":{\"colorbar\":{\"outlinewidth\":0,\"ticks\":\"\"}},\"marker\":{\"colorbar\":{\"outlinewidth\":0,\"ticks\":\"\"}},\"type\":\"scatter3d\"}],\"scattercarpet\":[{\"marker\":{\"colorbar\":{\"outlinewidth\":0,\"ticks\":\"\"}},\"type\":\"scattercarpet\"}],\"scattergeo\":[{\"marker\":{\"colorbar\":{\"outlinewidth\":0,\"ticks\":\"\"}},\"type\":\"scattergeo\"}],\"scattergl\":[{\"marker\":{\"colorbar\":{\"outlinewidth\":0,\"ticks\":\"\"}},\"type\":\"scattergl\"}],\"scattermapbox\":[{\"marker\":{\"colorbar\":{\"outlinewidth\":0,\"ticks\":\"\"}},\"type\":\"scattermapbox\"}],\"scatterpolar\":[{\"marker\":{\"colorbar\":{\"outlinewidth\":0,\"ticks\":\"\"}},\"type\":\"scatterpolar\"}],\"scatterpolargl\":[{\"marker\":{\"colorbar\":{\"outlinewidth\":0,\"ticks\":\"\"}},\"type\":\"scatterpolargl\"}],\"scatterternary\":[{\"marker\":{\"colorbar\":{\"outlinewidth\":0,\"ticks\":\"\"}},\"type\":\"scatterternary\"}],\"surface\":[{\"colorbar\":{\"outlinewidth\":0,\"ticks\":\"\"},\"colorscale\":[[0.0,\"#0d0887\"],[0.1111111111111111,\"#46039f\"],[0.2222222222222222,\"#7201a8\"],[0.3333333333333333,\"#9c179e\"],[0.4444444444444444,\"#bd3786\"],[0.5555555555555556,\"#d8576b\"],[0.6666666666666666,\"#ed7953\"],[0.7777777777777778,\"#fb9f3a\"],[0.8888888888888888,\"#fdca26\"],[1.0,\"#f0f921\"]],\"type\":\"surface\"}],\"table\":[{\"cells\":{\"fill\":{\"color\":\"#EBF0F8\"},\"line\":{\"color\":\"white\"}},\"header\":{\"fill\":{\"color\":\"#C8D4E3\"},\"line\":{\"color\":\"white\"}},\"type\":\"table\"}]},\"layout\":{\"annotationdefaults\":{\"arrowcolor\":\"#2a3f5f\",\"arrowhead\":0,\"arrowwidth\":1},\"autotypenumbers\":\"strict\",\"coloraxis\":{\"colorbar\":{\"outlinewidth\":0,\"ticks\":\"\"}},\"colorscale\":{\"diverging\":[[0,\"#8e0152\"],[0.1,\"#c51b7d\"],[0.2,\"#de77ae\"],[0.3,\"#f1b6da\"],[0.4,\"#fde0ef\"],[0.5,\"#f7f7f7\"],[0.6,\"#e6f5d0\"],[0.7,\"#b8e186\"],[0.8,\"#7fbc41\"],[0.9,\"#4d9221\"],[1,\"#276419\"]],\"sequential\":[[0.0,\"#0d0887\"],[0.1111111111111111,\"#46039f\"],[0.2222222222222222,\"#7201a8\"],[0.3333333333333333,\"#9c179e\"],[0.4444444444444444,\"#bd3786\"],[0.5555555555555556,\"#d8576b\"],[0.6666666666666666,\"#ed7953\"],[0.7777777777777778,\"#fb9f3a\"],[0.8888888888888888,\"#fdca26\"],[1.0,\"#f0f921\"]],\"sequentialminus\":[[0.0,\"#0d0887\"],[0.1111111111111111,\"#46039f\"],[0.2222222222222222,\"#7201a8\"],[0.3333333333333333,\"#9c179e\"],[0.4444444444444444,\"#bd3786\"],[0.5555555555555556,\"#d8576b\"],[0.6666666666666666,\"#ed7953\"],[0.7777777777777778,\"#fb9f3a\"],[0.8888888888888888,\"#fdca26\"],[1.0,\"#f0f921\"]]},\"colorway\":[\"#636efa\",\"#EF553B\",\"#00cc96\",\"#ab63fa\",\"#FFA15A\",\"#19d3f3\",\"#FF6692\",\"#B6E880\",\"#FF97FF\",\"#FECB52\"],\"font\":{\"color\":\"#2a3f5f\"},\"geo\":{\"bgcolor\":\"white\",\"lakecolor\":\"white\",\"landcolor\":\"#E5ECF6\",\"showlakes\":true,\"showland\":true,\"subunitcolor\":\"white\"},\"hoverlabel\":{\"align\":\"left\"},\"hovermode\":\"closest\",\"mapbox\":{\"style\":\"light\"},\"paper_bgcolor\":\"white\",\"plot_bgcolor\":\"#E5ECF6\",\"polar\":{\"angularaxis\":{\"gridcolor\":\"white\",\"linecolor\":\"white\",\"ticks\":\"\"},\"bgcolor\":\"#E5ECF6\",\"radialaxis\":{\"gridcolor\":\"white\",\"linecolor\":\"white\",\"ticks\":\"\"}},\"scene\":{\"xaxis\":{\"backgroundcolor\":\"#E5ECF6\",\"gridcolor\":\"white\",\"gridwidth\":2,\"linecolor\":\"white\",\"showbackground\":true,\"ticks\":\"\",\"zerolinecolor\":\"white\"},\"yaxis\":{\"backgroundcolor\":\"#E5ECF6\",\"gridcolor\":\"white\",\"gridwidth\":2,\"linecolor\":\"white\",\"showbackground\":true,\"ticks\":\"\",\"zerolinecolor\":\"white\"},\"zaxis\":{\"backgroundcolor\":\"#E5ECF6\",\"gridcolor\":\"white\",\"gridwidth\":2,\"linecolor\":\"white\",\"showbackground\":true,\"ticks\":\"\",\"zerolinecolor\":\"white\"}},\"shapedefaults\":{\"line\":{\"color\":\"#2a3f5f\"}},\"ternary\":{\"aaxis\":{\"gridcolor\":\"white\",\"linecolor\":\"white\",\"ticks\":\"\"},\"baxis\":{\"gridcolor\":\"white\",\"linecolor\":\"white\",\"ticks\":\"\"},\"bgcolor\":\"#E5ECF6\",\"caxis\":{\"gridcolor\":\"white\",\"linecolor\":\"white\",\"ticks\":\"\"}},\"title\":{\"x\":0.05},\"xaxis\":{\"automargin\":true,\"gridcolor\":\"white\",\"linecolor\":\"white\",\"ticks\":\"\",\"title\":{\"standoff\":15},\"zerolinecolor\":\"white\",\"zerolinewidth\":2},\"yaxis\":{\"automargin\":true,\"gridcolor\":\"white\",\"linecolor\":\"white\",\"ticks\":\"\",\"title\":{\"standoff\":15},\"zerolinecolor\":\"white\",\"zerolinewidth\":2}}},\"xaxis\":{\"anchor\":\"y\",\"domain\":[0.0,1.0],\"title\":{\"text\":\"x\"}},\"yaxis\":{\"anchor\":\"x\",\"categoryorder\":\"total ascending\",\"domain\":[0.0,1.0],\"title\":{\"text\":\"y\"}}},                        {\"responsive\": true}                    ).then(function(){\n",
       "                            \n",
       "var gd = document.getElementById('81eb21f9-5cd0-4c54-9ccb-0403bd11326f');\n",
       "var x = new MutationObserver(function (mutations, observer) {{\n",
       "        var display = window.getComputedStyle(gd).display;\n",
       "        if (!display || display === 'none') {{\n",
       "            console.log([gd, 'removed!']);\n",
       "            Plotly.purge(gd);\n",
       "            observer.disconnect();\n",
       "        }}\n",
       "}});\n",
       "\n",
       "// Listen for the removal of the full notebook cells\n",
       "var notebookContainer = gd.closest('#notebook-container');\n",
       "if (notebookContainer) {{\n",
       "    x.observe(notebookContainer, {childList: true});\n",
       "}}\n",
       "\n",
       "// Listen for the clearing of the current output cell\n",
       "var outputEl = gd.closest('.output');\n",
       "if (outputEl) {{\n",
       "    x.observe(outputEl, {childList: true});\n",
       "}}\n",
       "\n",
       "                        })                };                });            </script>        </div>"
      ]
     },
     "metadata": {},
     "output_type": "display_data"
    }
   ],
   "source": [
    "fig = px.bar(y=fdist.index, x=fdist.values)\n",
    "\n",
    "# sort values\n",
    "fig.update_layout(barmode='stack', yaxis={'categoryorder':'total ascending'})\n",
    "\n",
    "# show plot\n",
    "fig.show()"
   ]
  },
  {
   "cell_type": "code",
   "execution_count": 32,
   "id": "45cabfe1",
   "metadata": {},
   "outputs": [
    {
     "data": {
      "text/plain": [
       "115"
      ]
     },
     "execution_count": 32,
     "metadata": {},
     "output_type": "execute_result"
    }
   ],
   "source": [
    "# Search for specific word:\n",
    "# Show frequency of a specific word\n",
    "fd[\"comfortable\"]"
   ]
  },
  {
   "cell_type": "markdown",
   "id": "4962fb1e",
   "metadata": {},
   "source": [
    "#### Sentiment Analysis"
   ]
  },
  {
   "cell_type": "code",
   "execution_count": 33,
   "id": "e9c2e4af",
   "metadata": {},
   "outputs": [
    {
     "name": "stderr",
     "output_type": "stream",
     "text": [
      "[nltk_data] Downloading package vader_lexicon to\n",
      "[nltk_data]     C:\\Users\\Tram\\AppData\\Roaming\\nltk_data...\n",
      "[nltk_data]   Package vader_lexicon is already up-to-date!\n"
     ]
    },
    {
     "data": {
      "text/plain": [
       "True"
      ]
     },
     "execution_count": 33,
     "metadata": {},
     "output_type": "execute_result"
    }
   ],
   "source": [
    "nltk.download('vader_lexicon')"
   ]
  },
  {
   "cell_type": "code",
   "execution_count": 34,
   "id": "ec79a047",
   "metadata": {},
   "outputs": [],
   "source": [
    "from nltk.sentiment import SentimentIntensityAnalyzer\n",
    "\n",
    "analyzer = SentimentIntensityAnalyzer()"
   ]
  },
  {
   "cell_type": "markdown",
   "id": "e9da12de",
   "metadata": {},
   "source": [
    "##### Polarity scores"
   ]
  },
  {
   "cell_type": "code",
   "execution_count": 35,
   "id": "86654e5e",
   "metadata": {},
   "outputs": [
    {
     "data": {
      "text/html": [
       "<div>\n",
       "<style scoped>\n",
       "    .dataframe tbody tr th:only-of-type {\n",
       "        vertical-align: middle;\n",
       "    }\n",
       "\n",
       "    .dataframe tbody tr th {\n",
       "        vertical-align: top;\n",
       "    }\n",
       "\n",
       "    .dataframe thead th {\n",
       "        text-align: right;\n",
       "    }\n",
       "</style>\n",
       "<table border=\"1\" class=\"dataframe\">\n",
       "  <thead>\n",
       "    <tr style=\"text-align: right;\">\n",
       "      <th></th>\n",
       "      <th>Id</th>\n",
       "      <th>Original reviews</th>\n",
       "      <th>Trip verified|Not verified</th>\n",
       "      <th>Reviews</th>\n",
       "      <th>text_token</th>\n",
       "      <th>text_string</th>\n",
       "      <th>text_string_fdist</th>\n",
       "      <th>text_string_lem</th>\n",
       "      <th>is_equal</th>\n",
       "      <th>polarity</th>\n",
       "    </tr>\n",
       "  </thead>\n",
       "  <tbody>\n",
       "    <tr>\n",
       "      <th>997</th>\n",
       "      <td>997</td>\n",
       "      <td>Trip Verified |  Johannesburg to London I ten...</td>\n",
       "      <td>Trip Verified</td>\n",
       "      <td>Johannesburg to London I tend to stay with an ...</td>\n",
       "      <td>[Johannesburg, London, I, tend, stay, airline,...</td>\n",
       "      <td>Johannesburg London tend stay airline frequent...</td>\n",
       "      <td>Johannesburg London tend stay airline frequent...</td>\n",
       "      <td>Johannesburg London tend stay airline frequent...</td>\n",
       "      <td>True</td>\n",
       "      <td>{'neg': 0.086, 'neu': 0.695, 'pos': 0.219, 'co...</td>\n",
       "    </tr>\n",
       "    <tr>\n",
       "      <th>998</th>\n",
       "      <td>998</td>\n",
       "      <td>Trip Verified |  Singapore to London Heathrow...</td>\n",
       "      <td>Trip Verified</td>\n",
       "      <td>Singapore to London Heathrow Its my first time...</td>\n",
       "      <td>[Singapore, London, Heathrow, Its, first, time...</td>\n",
       "      <td>Singapore London Heathrow Its first time trave...</td>\n",
       "      <td>Singapore London Heathrow Its first time trave...</td>\n",
       "      <td>Singapore London Heathrow Its first time trave...</td>\n",
       "      <td>True</td>\n",
       "      <td>{'neg': 0.024, 'neu': 0.877, 'pos': 0.099, 'co...</td>\n",
       "    </tr>\n",
       "    <tr>\n",
       "      <th>999</th>\n",
       "      <td>999</td>\n",
       "      <td>Trip Verified |  London to Los Angeles Booked...</td>\n",
       "      <td>Trip Verified</td>\n",
       "      <td>London to Los Angeles Booked this trip eight m...</td>\n",
       "      <td>[London, Los, Angeles, Booked, trip, eight, mo...</td>\n",
       "      <td>London Los Angeles Booked trip eight months pr...</td>\n",
       "      <td>London Los Angeles Booked trip eight months pr...</td>\n",
       "      <td>London Los Angeles Booked trip eight months pr...</td>\n",
       "      <td>True</td>\n",
       "      <td>{'neg': 0.131, 'neu': 0.823, 'pos': 0.046, 'co...</td>\n",
       "    </tr>\n",
       "  </tbody>\n",
       "</table>\n",
       "</div>"
      ],
      "text/plain": [
       "      Id                                   Original reviews  \\\n",
       "997  997   Trip Verified |  Johannesburg to London I ten...   \n",
       "998  998   Trip Verified |  Singapore to London Heathrow...   \n",
       "999  999   Trip Verified |  London to Los Angeles Booked...   \n",
       "\n",
       "    Trip verified|Not verified  \\\n",
       "997              Trip Verified   \n",
       "998              Trip Verified   \n",
       "999              Trip Verified   \n",
       "\n",
       "                                               Reviews  \\\n",
       "997  Johannesburg to London I tend to stay with an ...   \n",
       "998  Singapore to London Heathrow Its my first time...   \n",
       "999  London to Los Angeles Booked this trip eight m...   \n",
       "\n",
       "                                            text_token  \\\n",
       "997  [Johannesburg, London, I, tend, stay, airline,...   \n",
       "998  [Singapore, London, Heathrow, Its, first, time...   \n",
       "999  [London, Los, Angeles, Booked, trip, eight, mo...   \n",
       "\n",
       "                                           text_string  \\\n",
       "997  Johannesburg London tend stay airline frequent...   \n",
       "998  Singapore London Heathrow Its first time trave...   \n",
       "999  London Los Angeles Booked trip eight months pr...   \n",
       "\n",
       "                                     text_string_fdist  \\\n",
       "997  Johannesburg London tend stay airline frequent...   \n",
       "998  Singapore London Heathrow Its first time trave...   \n",
       "999  London Los Angeles Booked trip eight months pr...   \n",
       "\n",
       "                                       text_string_lem  is_equal  \\\n",
       "997  Johannesburg London tend stay airline frequent...      True   \n",
       "998  Singapore London Heathrow Its first time trave...      True   \n",
       "999  London Los Angeles Booked trip eight months pr...      True   \n",
       "\n",
       "                                              polarity  \n",
       "997  {'neg': 0.086, 'neu': 0.695, 'pos': 0.219, 'co...  \n",
       "998  {'neg': 0.024, 'neu': 0.877, 'pos': 0.099, 'co...  \n",
       "999  {'neg': 0.131, 'neu': 0.823, 'pos': 0.046, 'co...  "
      ]
     },
     "execution_count": 35,
     "metadata": {},
     "output_type": "execute_result"
    }
   ],
   "source": [
    "Review['polarity'] = Review['text_string_lem'].apply(lambda x: analyzer.polarity_scores(x))\n",
    "Review.tail(3)"
   ]
  },
  {
   "cell_type": "code",
   "execution_count": 36,
   "id": "9601d4d3",
   "metadata": {},
   "outputs": [
    {
     "data": {
      "text/html": [
       "<div>\n",
       "<style scoped>\n",
       "    .dataframe tbody tr th:only-of-type {\n",
       "        vertical-align: middle;\n",
       "    }\n",
       "\n",
       "    .dataframe tbody tr th {\n",
       "        vertical-align: top;\n",
       "    }\n",
       "\n",
       "    .dataframe thead th {\n",
       "        text-align: right;\n",
       "    }\n",
       "</style>\n",
       "<table border=\"1\" class=\"dataframe\">\n",
       "  <thead>\n",
       "    <tr style=\"text-align: right;\">\n",
       "      <th></th>\n",
       "      <th>Id</th>\n",
       "      <th>Original reviews</th>\n",
       "      <th>Trip verified|Not verified</th>\n",
       "      <th>Reviews</th>\n",
       "      <th>text_token</th>\n",
       "      <th>text_string</th>\n",
       "      <th>text_string_fdist</th>\n",
       "      <th>text_string_lem</th>\n",
       "      <th>is_equal</th>\n",
       "      <th>neg</th>\n",
       "      <th>neu</th>\n",
       "      <th>pos</th>\n",
       "      <th>compound</th>\n",
       "    </tr>\n",
       "  </thead>\n",
       "  <tbody>\n",
       "    <tr>\n",
       "      <th>0</th>\n",
       "      <td>0</td>\n",
       "      <td>Trip Verified |  Ground and cabin crew always...</td>\n",
       "      <td>Trip Verified</td>\n",
       "      <td>Ground and cabin crew always provide good cust...</td>\n",
       "      <td>[Ground, cabin, crew, always, provide, good, c...</td>\n",
       "      <td>Ground cabin crew always provide good customer...</td>\n",
       "      <td>Ground cabin crew always provide good customer...</td>\n",
       "      <td>Ground cabin crew always provide good customer...</td>\n",
       "      <td>True</td>\n",
       "      <td>0.114</td>\n",
       "      <td>0.789</td>\n",
       "      <td>0.098</td>\n",
       "      <td>0.0000</td>\n",
       "    </tr>\n",
       "    <tr>\n",
       "      <th>1</th>\n",
       "      <td>1</td>\n",
       "      <td>Trip Verified |  My family flew from Washingt...</td>\n",
       "      <td>Trip Verified</td>\n",
       "      <td>My family flew from Washington to London on a ...</td>\n",
       "      <td>[My, family, flew, Washington, London, British...</td>\n",
       "      <td>family flew Washington London British Airways ...</td>\n",
       "      <td>family flew Washington London British Airways ...</td>\n",
       "      <td>family flew Washington London British Airways ...</td>\n",
       "      <td>True</td>\n",
       "      <td>0.100</td>\n",
       "      <td>0.650</td>\n",
       "      <td>0.249</td>\n",
       "      <td>0.9723</td>\n",
       "    </tr>\n",
       "    <tr>\n",
       "      <th>2</th>\n",
       "      <td>2</td>\n",
       "      <td>Trip Verified |  Easy check in a T5 Galleries...</td>\n",
       "      <td>Trip Verified</td>\n",
       "      <td>Easy check in a T5 Galleries south and North l...</td>\n",
       "      <td>[Easy, check, T5, Galleries, south, North, lou...</td>\n",
       "      <td>Easy check Galleries south North lounges packe...</td>\n",
       "      <td>Easy check Galleries south North lounges packe...</td>\n",
       "      <td>Easy check Galleries south North lounges packe...</td>\n",
       "      <td>True</td>\n",
       "      <td>0.088</td>\n",
       "      <td>0.632</td>\n",
       "      <td>0.280</td>\n",
       "      <td>0.9415</td>\n",
       "    </tr>\n",
       "    <tr>\n",
       "      <th>3</th>\n",
       "      <td>3</td>\n",
       "      <td>Not Verified |  Flight delayed by an hour it h...</td>\n",
       "      <td>Not Verified</td>\n",
       "      <td>Flight delayed by an hour it happens no biggie...</td>\n",
       "      <td>[Flight, delayed, hour, happens, biggie, Had, ...</td>\n",
       "      <td>Flight delayed hour happens biggie Had change ...</td>\n",
       "      <td>Flight delayed hour happens biggie Had change ...</td>\n",
       "      <td>Flight delayed hour happens biggie Had change ...</td>\n",
       "      <td>True</td>\n",
       "      <td>0.054</td>\n",
       "      <td>0.881</td>\n",
       "      <td>0.065</td>\n",
       "      <td>0.1027</td>\n",
       "    </tr>\n",
       "    <tr>\n",
       "      <th>4</th>\n",
       "      <td>4</td>\n",
       "      <td>Not Verified | The staff are very rude and not...</td>\n",
       "      <td>Not Verified</td>\n",
       "      <td>The staff are very rude and not trained proper...</td>\n",
       "      <td>[The, staff, rude, trained, properly, No, exce...</td>\n",
       "      <td>The staff rude trained properly exceptions mad...</td>\n",
       "      <td>The staff rude trained properly exceptions mad...</td>\n",
       "      <td>The staff rude trained properly exceptions mad...</td>\n",
       "      <td>True</td>\n",
       "      <td>0.270</td>\n",
       "      <td>0.730</td>\n",
       "      <td>0.000</td>\n",
       "      <td>-0.7698</td>\n",
       "    </tr>\n",
       "    <tr>\n",
       "      <th>...</th>\n",
       "      <td>...</td>\n",
       "      <td>...</td>\n",
       "      <td>...</td>\n",
       "      <td>...</td>\n",
       "      <td>...</td>\n",
       "      <td>...</td>\n",
       "      <td>...</td>\n",
       "      <td>...</td>\n",
       "      <td>...</td>\n",
       "      <td>...</td>\n",
       "      <td>...</td>\n",
       "      <td>...</td>\n",
       "      <td>...</td>\n",
       "    </tr>\n",
       "    <tr>\n",
       "      <th>995</th>\n",
       "      <td>995</td>\n",
       "      <td>Trip Verified |  London to Toronto 14 day tri...</td>\n",
       "      <td>Trip Verified</td>\n",
       "      <td>London to Toronto 14 day trip to play golf wit...</td>\n",
       "      <td>[London, Toronto, 14, day, trip, play, golf, F...</td>\n",
       "      <td>London Toronto day trip play golf Father lost ...</td>\n",
       "      <td>London Toronto day trip play golf Father lost ...</td>\n",
       "      <td>London Toronto day trip play golf Father lost ...</td>\n",
       "      <td>True</td>\n",
       "      <td>0.243</td>\n",
       "      <td>0.726</td>\n",
       "      <td>0.032</td>\n",
       "      <td>-0.9432</td>\n",
       "    </tr>\n",
       "    <tr>\n",
       "      <th>996</th>\n",
       "      <td>996</td>\n",
       "      <td>Trip Verified |  London to Vienna I was shock...</td>\n",
       "      <td>Trip Verified</td>\n",
       "      <td>London to Vienna I was shocked that BA provide...</td>\n",
       "      <td>[London, Vienna, I, shocked, BA, provides, buy...</td>\n",
       "      <td>London Vienna shocked provides buy onboard sho...</td>\n",
       "      <td>London Vienna shocked provides buy onboard sho...</td>\n",
       "      <td>London Vienna shocked provides buy onboard sho...</td>\n",
       "      <td>True</td>\n",
       "      <td>0.081</td>\n",
       "      <td>0.667</td>\n",
       "      <td>0.253</td>\n",
       "      <td>0.5988</td>\n",
       "    </tr>\n",
       "    <tr>\n",
       "      <th>997</th>\n",
       "      <td>997</td>\n",
       "      <td>Trip Verified |  Johannesburg to London I ten...</td>\n",
       "      <td>Trip Verified</td>\n",
       "      <td>Johannesburg to London I tend to stay with an ...</td>\n",
       "      <td>[Johannesburg, London, I, tend, stay, airline,...</td>\n",
       "      <td>Johannesburg London tend stay airline frequent...</td>\n",
       "      <td>Johannesburg London tend stay airline frequent...</td>\n",
       "      <td>Johannesburg London tend stay airline frequent...</td>\n",
       "      <td>True</td>\n",
       "      <td>0.086</td>\n",
       "      <td>0.695</td>\n",
       "      <td>0.219</td>\n",
       "      <td>0.9326</td>\n",
       "    </tr>\n",
       "    <tr>\n",
       "      <th>998</th>\n",
       "      <td>998</td>\n",
       "      <td>Trip Verified |  Singapore to London Heathrow...</td>\n",
       "      <td>Trip Verified</td>\n",
       "      <td>Singapore to London Heathrow Its my first time...</td>\n",
       "      <td>[Singapore, London, Heathrow, Its, first, time...</td>\n",
       "      <td>Singapore London Heathrow Its first time trave...</td>\n",
       "      <td>Singapore London Heathrow Its first time trave...</td>\n",
       "      <td>Singapore London Heathrow Its first time trave...</td>\n",
       "      <td>True</td>\n",
       "      <td>0.024</td>\n",
       "      <td>0.877</td>\n",
       "      <td>0.099</td>\n",
       "      <td>0.6808</td>\n",
       "    </tr>\n",
       "    <tr>\n",
       "      <th>999</th>\n",
       "      <td>999</td>\n",
       "      <td>Trip Verified |  London to Los Angeles Booked...</td>\n",
       "      <td>Trip Verified</td>\n",
       "      <td>London to Los Angeles Booked this trip eight m...</td>\n",
       "      <td>[London, Los, Angeles, Booked, trip, eight, mo...</td>\n",
       "      <td>London Los Angeles Booked trip eight months pr...</td>\n",
       "      <td>London Los Angeles Booked trip eight months pr...</td>\n",
       "      <td>London Los Angeles Booked trip eight months pr...</td>\n",
       "      <td>True</td>\n",
       "      <td>0.131</td>\n",
       "      <td>0.823</td>\n",
       "      <td>0.046</td>\n",
       "      <td>-0.8589</td>\n",
       "    </tr>\n",
       "  </tbody>\n",
       "</table>\n",
       "<p>1000 rows × 13 columns</p>\n",
       "</div>"
      ],
      "text/plain": [
       "      Id                                   Original reviews  \\\n",
       "0      0   Trip Verified |  Ground and cabin crew always...   \n",
       "1      1   Trip Verified |  My family flew from Washingt...   \n",
       "2      2   Trip Verified |  Easy check in a T5 Galleries...   \n",
       "3      3  Not Verified |  Flight delayed by an hour it h...   \n",
       "4      4  Not Verified | The staff are very rude and not...   \n",
       "..   ...                                                ...   \n",
       "995  995   Trip Verified |  London to Toronto 14 day tri...   \n",
       "996  996   Trip Verified |  London to Vienna I was shock...   \n",
       "997  997   Trip Verified |  Johannesburg to London I ten...   \n",
       "998  998   Trip Verified |  Singapore to London Heathrow...   \n",
       "999  999   Trip Verified |  London to Los Angeles Booked...   \n",
       "\n",
       "    Trip verified|Not verified  \\\n",
       "0                Trip Verified   \n",
       "1                Trip Verified   \n",
       "2                Trip Verified   \n",
       "3                 Not Verified   \n",
       "4                 Not Verified   \n",
       "..                         ...   \n",
       "995              Trip Verified   \n",
       "996              Trip Verified   \n",
       "997              Trip Verified   \n",
       "998              Trip Verified   \n",
       "999              Trip Verified   \n",
       "\n",
       "                                               Reviews  \\\n",
       "0    Ground and cabin crew always provide good cust...   \n",
       "1    My family flew from Washington to London on a ...   \n",
       "2    Easy check in a T5 Galleries south and North l...   \n",
       "3    Flight delayed by an hour it happens no biggie...   \n",
       "4    The staff are very rude and not trained proper...   \n",
       "..                                                 ...   \n",
       "995  London to Toronto 14 day trip to play golf wit...   \n",
       "996  London to Vienna I was shocked that BA provide...   \n",
       "997  Johannesburg to London I tend to stay with an ...   \n",
       "998  Singapore to London Heathrow Its my first time...   \n",
       "999  London to Los Angeles Booked this trip eight m...   \n",
       "\n",
       "                                            text_token  \\\n",
       "0    [Ground, cabin, crew, always, provide, good, c...   \n",
       "1    [My, family, flew, Washington, London, British...   \n",
       "2    [Easy, check, T5, Galleries, south, North, lou...   \n",
       "3    [Flight, delayed, hour, happens, biggie, Had, ...   \n",
       "4    [The, staff, rude, trained, properly, No, exce...   \n",
       "..                                                 ...   \n",
       "995  [London, Toronto, 14, day, trip, play, golf, F...   \n",
       "996  [London, Vienna, I, shocked, BA, provides, buy...   \n",
       "997  [Johannesburg, London, I, tend, stay, airline,...   \n",
       "998  [Singapore, London, Heathrow, Its, first, time...   \n",
       "999  [London, Los, Angeles, Booked, trip, eight, mo...   \n",
       "\n",
       "                                           text_string  \\\n",
       "0    Ground cabin crew always provide good customer...   \n",
       "1    family flew Washington London British Airways ...   \n",
       "2    Easy check Galleries south North lounges packe...   \n",
       "3    Flight delayed hour happens biggie Had change ...   \n",
       "4    The staff rude trained properly exceptions mad...   \n",
       "..                                                 ...   \n",
       "995  London Toronto day trip play golf Father lost ...   \n",
       "996  London Vienna shocked provides buy onboard sho...   \n",
       "997  Johannesburg London tend stay airline frequent...   \n",
       "998  Singapore London Heathrow Its first time trave...   \n",
       "999  London Los Angeles Booked trip eight months pr...   \n",
       "\n",
       "                                     text_string_fdist  \\\n",
       "0    Ground cabin crew always provide good customer...   \n",
       "1    family flew Washington London British Airways ...   \n",
       "2    Easy check Galleries south North lounges packe...   \n",
       "3    Flight delayed hour happens biggie Had change ...   \n",
       "4    The staff rude trained properly exceptions mad...   \n",
       "..                                                 ...   \n",
       "995  London Toronto day trip play golf Father lost ...   \n",
       "996  London Vienna shocked provides buy onboard sho...   \n",
       "997  Johannesburg London tend stay airline frequent...   \n",
       "998  Singapore London Heathrow Its first time trave...   \n",
       "999  London Los Angeles Booked trip eight months pr...   \n",
       "\n",
       "                                       text_string_lem  is_equal    neg  \\\n",
       "0    Ground cabin crew always provide good customer...      True  0.114   \n",
       "1    family flew Washington London British Airways ...      True  0.100   \n",
       "2    Easy check Galleries south North lounges packe...      True  0.088   \n",
       "3    Flight delayed hour happens biggie Had change ...      True  0.054   \n",
       "4    The staff rude trained properly exceptions mad...      True  0.270   \n",
       "..                                                 ...       ...    ...   \n",
       "995  London Toronto day trip play golf Father lost ...      True  0.243   \n",
       "996  London Vienna shocked provides buy onboard sho...      True  0.081   \n",
       "997  Johannesburg London tend stay airline frequent...      True  0.086   \n",
       "998  Singapore London Heathrow Its first time trave...      True  0.024   \n",
       "999  London Los Angeles Booked trip eight months pr...      True  0.131   \n",
       "\n",
       "       neu    pos  compound  \n",
       "0    0.789  0.098    0.0000  \n",
       "1    0.650  0.249    0.9723  \n",
       "2    0.632  0.280    0.9415  \n",
       "3    0.881  0.065    0.1027  \n",
       "4    0.730  0.000   -0.7698  \n",
       "..     ...    ...       ...  \n",
       "995  0.726  0.032   -0.9432  \n",
       "996  0.667  0.253    0.5988  \n",
       "997  0.695  0.219    0.9326  \n",
       "998  0.877  0.099    0.6808  \n",
       "999  0.823  0.046   -0.8589  \n",
       "\n",
       "[1000 rows x 13 columns]"
      ]
     },
     "execution_count": 36,
     "metadata": {},
     "output_type": "execute_result"
    }
   ],
   "source": [
    "Review=pd.concat([\n",
    "    Review.drop('polarity', axis=1), Review['polarity'].apply(pd.Series)\n",
    "], axis =1\n",
    ")\n",
    "Review"
   ]
  },
  {
   "cell_type": "code",
   "execution_count": 37,
   "id": "c2a926e7",
   "metadata": {},
   "outputs": [
    {
     "data": {
      "text/html": [
       "<div>\n",
       "<style scoped>\n",
       "    .dataframe tbody tr th:only-of-type {\n",
       "        vertical-align: middle;\n",
       "    }\n",
       "\n",
       "    .dataframe tbody tr th {\n",
       "        vertical-align: top;\n",
       "    }\n",
       "\n",
       "    .dataframe thead th {\n",
       "        text-align: right;\n",
       "    }\n",
       "</style>\n",
       "<table border=\"1\" class=\"dataframe\">\n",
       "  <thead>\n",
       "    <tr style=\"text-align: right;\">\n",
       "      <th></th>\n",
       "      <th>Id</th>\n",
       "      <th>Original reviews</th>\n",
       "      <th>Trip verified|Not verified</th>\n",
       "      <th>Reviews</th>\n",
       "      <th>text_token</th>\n",
       "      <th>text_string</th>\n",
       "      <th>text_string_fdist</th>\n",
       "      <th>text_string_lem</th>\n",
       "      <th>is_equal</th>\n",
       "      <th>neg</th>\n",
       "      <th>neu</th>\n",
       "      <th>pos</th>\n",
       "      <th>compound</th>\n",
       "      <th>sentiment</th>\n",
       "    </tr>\n",
       "  </thead>\n",
       "  <tbody>\n",
       "    <tr>\n",
       "      <th>0</th>\n",
       "      <td>0</td>\n",
       "      <td>Trip Verified |  Ground and cabin crew always...</td>\n",
       "      <td>Trip Verified</td>\n",
       "      <td>Ground and cabin crew always provide good cust...</td>\n",
       "      <td>[Ground, cabin, crew, always, provide, good, c...</td>\n",
       "      <td>Ground cabin crew always provide good customer...</td>\n",
       "      <td>Ground cabin crew always provide good customer...</td>\n",
       "      <td>Ground cabin crew always provide good customer...</td>\n",
       "      <td>True</td>\n",
       "      <td>0.114</td>\n",
       "      <td>0.789</td>\n",
       "      <td>0.098</td>\n",
       "      <td>0.0000</td>\n",
       "      <td>neutral</td>\n",
       "    </tr>\n",
       "    <tr>\n",
       "      <th>1</th>\n",
       "      <td>1</td>\n",
       "      <td>Trip Verified |  My family flew from Washingt...</td>\n",
       "      <td>Trip Verified</td>\n",
       "      <td>My family flew from Washington to London on a ...</td>\n",
       "      <td>[My, family, flew, Washington, London, British...</td>\n",
       "      <td>family flew Washington London British Airways ...</td>\n",
       "      <td>family flew Washington London British Airways ...</td>\n",
       "      <td>family flew Washington London British Airways ...</td>\n",
       "      <td>True</td>\n",
       "      <td>0.100</td>\n",
       "      <td>0.650</td>\n",
       "      <td>0.249</td>\n",
       "      <td>0.9723</td>\n",
       "      <td>positive</td>\n",
       "    </tr>\n",
       "    <tr>\n",
       "      <th>2</th>\n",
       "      <td>2</td>\n",
       "      <td>Trip Verified |  Easy check in a T5 Galleries...</td>\n",
       "      <td>Trip Verified</td>\n",
       "      <td>Easy check in a T5 Galleries south and North l...</td>\n",
       "      <td>[Easy, check, T5, Galleries, south, North, lou...</td>\n",
       "      <td>Easy check Galleries south North lounges packe...</td>\n",
       "      <td>Easy check Galleries south North lounges packe...</td>\n",
       "      <td>Easy check Galleries south North lounges packe...</td>\n",
       "      <td>True</td>\n",
       "      <td>0.088</td>\n",
       "      <td>0.632</td>\n",
       "      <td>0.280</td>\n",
       "      <td>0.9415</td>\n",
       "      <td>positive</td>\n",
       "    </tr>\n",
       "    <tr>\n",
       "      <th>3</th>\n",
       "      <td>3</td>\n",
       "      <td>Not Verified |  Flight delayed by an hour it h...</td>\n",
       "      <td>Not Verified</td>\n",
       "      <td>Flight delayed by an hour it happens no biggie...</td>\n",
       "      <td>[Flight, delayed, hour, happens, biggie, Had, ...</td>\n",
       "      <td>Flight delayed hour happens biggie Had change ...</td>\n",
       "      <td>Flight delayed hour happens biggie Had change ...</td>\n",
       "      <td>Flight delayed hour happens biggie Had change ...</td>\n",
       "      <td>True</td>\n",
       "      <td>0.054</td>\n",
       "      <td>0.881</td>\n",
       "      <td>0.065</td>\n",
       "      <td>0.1027</td>\n",
       "      <td>positive</td>\n",
       "    </tr>\n",
       "  </tbody>\n",
       "</table>\n",
       "</div>"
      ],
      "text/plain": [
       "   Id                                   Original reviews  \\\n",
       "0   0   Trip Verified |  Ground and cabin crew always...   \n",
       "1   1   Trip Verified |  My family flew from Washingt...   \n",
       "2   2   Trip Verified |  Easy check in a T5 Galleries...   \n",
       "3   3  Not Verified |  Flight delayed by an hour it h...   \n",
       "\n",
       "  Trip verified|Not verified  \\\n",
       "0              Trip Verified   \n",
       "1              Trip Verified   \n",
       "2              Trip Verified   \n",
       "3               Not Verified   \n",
       "\n",
       "                                             Reviews  \\\n",
       "0  Ground and cabin crew always provide good cust...   \n",
       "1  My family flew from Washington to London on a ...   \n",
       "2  Easy check in a T5 Galleries south and North l...   \n",
       "3  Flight delayed by an hour it happens no biggie...   \n",
       "\n",
       "                                          text_token  \\\n",
       "0  [Ground, cabin, crew, always, provide, good, c...   \n",
       "1  [My, family, flew, Washington, London, British...   \n",
       "2  [Easy, check, T5, Galleries, south, North, lou...   \n",
       "3  [Flight, delayed, hour, happens, biggie, Had, ...   \n",
       "\n",
       "                                         text_string  \\\n",
       "0  Ground cabin crew always provide good customer...   \n",
       "1  family flew Washington London British Airways ...   \n",
       "2  Easy check Galleries south North lounges packe...   \n",
       "3  Flight delayed hour happens biggie Had change ...   \n",
       "\n",
       "                                   text_string_fdist  \\\n",
       "0  Ground cabin crew always provide good customer...   \n",
       "1  family flew Washington London British Airways ...   \n",
       "2  Easy check Galleries south North lounges packe...   \n",
       "3  Flight delayed hour happens biggie Had change ...   \n",
       "\n",
       "                                     text_string_lem  is_equal    neg    neu  \\\n",
       "0  Ground cabin crew always provide good customer...      True  0.114  0.789   \n",
       "1  family flew Washington London British Airways ...      True  0.100  0.650   \n",
       "2  Easy check Galleries south North lounges packe...      True  0.088  0.632   \n",
       "3  Flight delayed hour happens biggie Had change ...      True  0.054  0.881   \n",
       "\n",
       "     pos  compound sentiment  \n",
       "0  0.098    0.0000   neutral  \n",
       "1  0.249    0.9723  positive  \n",
       "2  0.280    0.9415  positive  \n",
       "3  0.065    0.1027  positive  "
      ]
     },
     "execution_count": 37,
     "metadata": {},
     "output_type": "execute_result"
    }
   ],
   "source": [
    "# Create new variable with sentiment \"neutral,\" \"positive\" and \"negative\"\n",
    "Review['sentiment'] = Review['compound'].apply(lambda x: 'positive' if x >0 else 'neutral' if x==0 else 'negative')\n",
    "Review.head(4)"
   ]
  },
  {
   "cell_type": "code",
   "execution_count": 38,
   "id": "1381a8be",
   "metadata": {},
   "outputs": [
    {
     "data": {
      "text/plain": [
       "array([482,\n",
       "       ' Trip Verified |  I was supposed to fly with Aeroflot on the 23rd of December to Moscow But because Russia has closed its borders like the majority of other countries the flight was canceled and I couldnt get home Ive also tried to fly through Antalya but the same situation occurred On my third try I came to Heathrow and tried to fly away to Cairo I was declined by another company Then I went to British Airways Starting from testing because Egypt requires tests as stressful as the whole situation was the employees were outstanding Im not sure is it connected to BA but still I want to mention this The crew was very helpful and extremely understanding very professional and urgent to help they have been a great help and I am very gracious for this I want to separately point out one employee  Shanell if I am not mistaken who works at Collision testing center in Heathrow Terminal 5 She is a savior and most importantly a human which is very rare nowadays Carrying on I went to BA checkin but unfortunately couldnt do it as my results didnt go through yet However another outstanding employee who provided great help called her colleagues and arranged for the booking to be frozen until the results arrive Ive come to her 3 times with additional questions and every time she was very patient professional and happy to help After I got my results I came back to Heathrow on 24th but unfortunately there were no flights to Cairo the situation became even more complicated I will spare the details However here again brilliant employees of BA offered their personal assistance and showed sympathy and humanity towards me The nicest lady Ive ever met unfortunately I didnt catch her name but I am aware it was her first day at BA and that she is Egyptian followed me throughout my struggles offered me emotional and professional support She tried to find any possible ways for me to get back home and actually did She was open to any kind of help and was enormously helpful for which I cant thank her enough She also asked her colleague to help me which he kindly did  Lastly the nice lady shame I dont know her name also shared my struggles with her colleague Mani who came to substitute her on the position He was very friendly and attentive as well talked me through the process offered different ways I can stay at the airport gave his phone to call and offered to drop me off at the hotel which he did not have to do whatsoever To conclude I merely want to thank all of these individuals one more time as they have been a great help both in physical and mental aspects I honestly do not know what would I do if I havent met them I dont know was I just lucky to meet these people or all BA employees are of the same morality but I do want to thank BA for hiring and providing jobs for these great human beings as well as upholding the standard for other airlines For some people the help that was provided to me might seem like a normal thing to do However for me it was a pleasant and so much needed surprise As no one in',\n",
       "       'Trip Verified',\n",
       "       'I was supposed to fly with Aeroflot on the 23rd of December to Moscow But because Russia has closed its borders like the majority of other countries the flight was canceled and I couldnt get home Ive also tried to fly through Antalya but the same situation occurred On my third try I came to Heathrow and tried to fly away to Cairo I was declined by another company Then I went to British Airways Starting from testing because Egypt requires tests as stressful as the whole situation was the employees were outstanding Im not sure is it connected to BA but still I want to mention this The crew was very helpful and extremely understanding very professional and urgent to help they have been a great help and I am very gracious for this I want to separately point out one employee  Shanell if I am not mistaken who works at Collision testing center in Heathrow Terminal 5 She is a savior and most importantly a human which is very rare nowadays Carrying on I went to BA checkin but unfortunately couldnt do it as my results didnt go through yet However another outstanding employee who provided great help called her colleagues and arranged for the booking to be frozen until the results arrive Ive come to her 3 times with additional questions and every time she was very patient professional and happy to help After I got my results I came back to Heathrow on 24th but unfortunately there were no flights to Cairo the situation became even more complicated I will spare the details However here again brilliant employees of BA offered their personal assistance and showed sympathy and humanity towards me The nicest lady Ive ever met unfortunately I didnt catch her name but I am aware it was her first day at BA and that she is Egyptian followed me throughout my struggles offered me emotional and professional support She tried to find any possible ways for me to get back home and actually did She was open to any kind of help and was enormously helpful for which I cant thank her enough She also asked her colleague to help me which he kindly did  Lastly the nice lady shame I dont know her name also shared my struggles with her colleague Mani who came to substitute her on the position He was very friendly and attentive as well talked me through the process offered different ways I can stay at the airport gave his phone to call and offered to drop me off at the hotel which he did not have to do whatsoever To conclude I merely want to thank all of these individuals one more time as they have been a great help both in physical and mental aspects I honestly do not know what would I do if I havent met them I dont know was I just lucky to meet these people or all BA employees are of the same morality but I do want to thank BA for hiring and providing jobs for these great human beings as well as upholding the standard for other airlines For some people the help that was provided to me might seem like a normal thing to do However for me it was a pleasant and so much needed surprise As no one in',\n",
       "       list(['I', 'supposed', 'fly', 'Aeroflot', '23rd', 'December', 'Moscow', 'But', 'Russia', 'closed', 'borders', 'like', 'majority', 'countries', 'flight', 'canceled', 'I', 'couldnt', 'get', 'home', 'Ive', 'also', 'tried', 'fly', 'Antalya', 'situation', 'occurred', 'On', 'third', 'try', 'I', 'came', 'Heathrow', 'tried', 'fly', 'away', 'Cairo', 'I', 'declined', 'another', 'company', 'Then', 'I', 'went', 'British', 'Airways', 'Starting', 'testing', 'Egypt', 'requires', 'tests', 'stressful', 'whole', 'situation', 'employees', 'outstanding', 'Im', 'sure', 'connected', 'BA', 'still', 'I', 'want', 'mention', 'The', 'crew', 'helpful', 'extremely', 'understanding', 'professional', 'urgent', 'help', 'great', 'help', 'I', 'gracious', 'I', 'want', 'separately', 'point', 'one', 'employee', 'Shanell', 'I', 'mistaken', 'works', 'Collision', 'testing', 'center', 'Heathrow', 'Terminal', '5', 'She', 'savior', 'importantly', 'human', 'rare', 'nowadays', 'Carrying', 'I', 'went', 'BA', 'checkin', 'unfortunately', 'couldnt', 'results', 'didnt', 'go', 'yet', 'However', 'another', 'outstanding', 'employee', 'provided', 'great', 'help', 'called', 'colleagues', 'arranged', 'booking', 'frozen', 'results', 'arrive', 'Ive', 'come', '3', 'times', 'additional', 'questions', 'every', 'time', 'patient', 'professional', 'happy', 'help', 'After', 'I', 'got', 'results', 'I', 'came', 'back', 'Heathrow', '24th', 'unfortunately', 'flights', 'Cairo', 'situation', 'became', 'even', 'complicated', 'I', 'spare', 'details', 'However', 'brilliant', 'employees', 'BA', 'offered', 'personal', 'assistance', 'showed', 'sympathy', 'humanity', 'towards', 'The', 'nicest', 'lady', 'Ive', 'ever', 'met', 'unfortunately', 'I', 'didnt', 'catch', 'name', 'I', 'aware', 'first', 'day', 'BA', 'Egyptian', 'followed', 'throughout', 'struggles', 'offered', 'emotional', 'professional', 'support', 'She', 'tried', 'find', 'possible', 'ways', 'get', 'back', 'home', 'actually', 'She', 'open', 'kind', 'help', 'enormously', 'helpful', 'I', 'cant', 'thank', 'enough', 'She', 'also', 'asked', 'colleague', 'help', 'kindly', 'Lastly', 'nice', 'lady', 'shame', 'I', 'dont', 'know', 'name', 'also', 'shared', 'struggles', 'colleague', 'Mani', 'came', 'substitute', 'position', 'He', 'friendly', 'attentive', 'well', 'talked', 'process', 'offered', 'different', 'ways', 'I', 'stay', 'airport', 'gave', 'phone', 'call', 'offered', 'drop', 'hotel', 'whatsoever', 'To', 'conclude', 'I', 'merely', 'want', 'thank', 'individuals', 'one', 'time', 'great', 'help', 'physical', 'mental', 'aspects', 'I', 'honestly', 'know', 'would', 'I', 'I', 'havent', 'met', 'I', 'dont', 'know', 'I', 'lucky', 'meet', 'people', 'BA', 'employees', 'morality', 'I', 'want', 'thank', 'BA', 'hiring', 'providing', 'jobs', 'great', 'human', 'beings', 'well', 'upholding', 'standard', 'airlines', 'For', 'people', 'help', 'provided', 'might', 'seem', 'like', 'normal', 'thing', 'However', 'pleasant', 'much', 'needed', 'surprise', 'As', 'one']),\n",
       "       'supposed fly Aeroflot 23rd December Moscow But Russia closed borders like majority countries flight canceled couldnt get home Ive also tried fly Antalya situation occurred third try came Heathrow tried fly away Cairo declined another company Then went British Airways Starting testing Egypt requires tests stressful whole situation employees outstanding sure connected still want mention The crew helpful extremely understanding professional urgent help great help gracious want separately point one employee Shanell mistaken works Collision testing center Heathrow Terminal She savior importantly human rare nowadays Carrying went checkin unfortunately couldnt results didnt yet However another outstanding employee provided great help called colleagues arranged booking frozen results arrive Ive come times additional questions every time patient professional happy help After got results came back Heathrow 24th unfortunately flights Cairo situation became even complicated spare details However brilliant employees offered personal assistance showed sympathy humanity towards The nicest lady Ive ever met unfortunately didnt catch name aware first day Egyptian followed throughout struggles offered emotional professional support She tried find possible ways get back home actually She open kind help enormously helpful cant thank enough She also asked colleague help kindly Lastly nice lady shame dont know name also shared struggles colleague Mani came substitute position friendly attentive well talked process offered different ways stay airport gave phone call offered drop hotel whatsoever conclude merely want thank individuals one time great help physical mental aspects honestly know would havent met dont know lucky meet people employees morality want thank hiring providing jobs great human beings well upholding standard airlines For people help provided might seem like normal thing However pleasant much needed surprise one',\n",
       "       'supposed fly Aeroflot 23rd December Moscow But Russia closed borders like majority countries flight canceled couldnt get home Ive also tried fly Antalya situation occurred third try came Heathrow tried fly away Cairo declined another company Then went British Airways Starting testing Egypt requires tests stressful whole situation employees outstanding sure connected still want mention The crew helpful extremely understanding professional urgent help great help gracious want separately point one employee Shanell mistaken works Collision testing center Heathrow Terminal She savior importantly human rare nowadays Carrying went checkin unfortunately couldnt results didnt yet However another outstanding employee provided great help called colleagues arranged booking frozen results arrive Ive come times additional questions every time patient professional happy help After got results came back Heathrow 24th unfortunately flights Cairo situation became even complicated spare details However brilliant employees offered personal assistance showed sympathy humanity towards The nicest lady Ive ever met unfortunately didnt catch name aware first day Egyptian followed throughout struggles offered emotional professional support She tried find possible ways get back home actually She open kind help enormously helpful cant thank enough She also asked colleague help kindly Lastly nice lady shame dont know name also shared struggles colleague Mani came substitute position friendly attentive well talked process offered different ways stay airport gave phone call offered drop hotel whatsoever conclude merely want thank individuals one time great help physical mental aspects honestly know would havent met dont know lucky meet people employees morality want thank hiring providing jobs great human beings well upholding standard airlines For people help provided might seem like normal thing However pleasant much needed surprise one',\n",
       "       'supposed fly Aeroflot 23rd December Moscow But Russia closed borders like majority countries flight canceled couldnt get home Ive also tried fly Antalya situation occurred third try came Heathrow tried fly away Cairo declined another company Then went British Airways Starting testing Egypt requires tests stressful whole situation employees outstanding sure connected still want mention The crew helpful extremely understanding professional urgent help great help gracious want separately point one employee Shanell mistaken works Collision testing center Heathrow Terminal She savior importantly human rare nowadays Carrying went checkin unfortunately couldnt results didnt yet However another outstanding employee provided great help called colleagues arranged booking frozen results arrive Ive come times additional questions every time patient professional happy help After got results came back Heathrow 24th unfortunately flights Cairo situation became even complicated spare details However brilliant employees offered personal assistance showed sympathy humanity towards The nicest lady Ive ever met unfortunately didnt catch name aware first day Egyptian followed throughout struggles offered emotional professional support She tried find possible ways get back home actually She open kind help enormously helpful cant thank enough She also asked colleague help kindly Lastly nice lady shame dont know name also shared struggles colleague Mani came substitute position friendly attentive well talked process offered different ways stay airport gave phone call offered drop hotel whatsoever conclude merely want thank individuals one time great help physical mental aspects honestly know would havent met dont know lucky meet people employees morality want thank hiring providing jobs great human beings well upholding standard airlines For people help provided might seem like normal thing However pleasant much needed surprise one',\n",
       "       True, 0.11, 0.519, 0.372, 0.9989, 'positive'], dtype=object)"
      ]
     },
     "execution_count": 38,
     "metadata": {},
     "output_type": "execute_result"
    }
   ],
   "source": [
    "# Review with highest positive sentiment\n",
    "Review.loc[Review['compound'].idxmax()].values"
   ]
  },
  {
   "cell_type": "code",
   "execution_count": 39,
   "id": "86e2cc1a",
   "metadata": {},
   "outputs": [
    {
     "data": {
      "text/plain": [
       "array([789,\n",
       "       ' Trip Verified |  London to Nashville The worst airline TransAtlantic Despite looking forward to flying on this new route to Nashville British Airways ruined this trip The flight was delayed by over three hours whilst they ostensibly replaced the damaged aircraft with an inbound Boeing 7879 from San Jose The airplane was filthy dirty in Club Class which is bad enough having to suffer the awful dated Club Class yingyang facing narrow seats with divider Business Class on British Airways is the worst of any airline The WIFI was out of service On late arrival in Nashville my luggage arrived soaking wet and I was unable to change clothes On my return to the UK I contacted British Airways Customer Relations to seek compensation and got the usual pathetic mainly computer generated insincere apology I am now forced to haggle with British Airways and endure their woeful socalled Customer Relations department It is a real shame to witness the decline of this national carrier British Airways treat their premium class customers with contempt This is what happens when an airline has a monopoly from Heathrow ',\n",
       "       'Trip Verified',\n",
       "       'London to Nashville The worst airline TransAtlantic Despite looking forward to flying on this new route to Nashville British Airways ruined this trip The flight was delayed by over three hours whilst they ostensibly replaced the damaged aircraft with an inbound Boeing 7879 from San Jose The airplane was filthy dirty in Club Class which is bad enough having to suffer the awful dated Club Class yingyang facing narrow seats with divider Business Class on British Airways is the worst of any airline The WIFI was out of service On late arrival in Nashville my luggage arrived soaking wet and I was unable to change clothes On my return to the UK I contacted British Airways Customer Relations to seek compensation and got the usual pathetic mainly computer generated insincere apology I am now forced to haggle with British Airways and endure their woeful socalled Customer Relations department It is a real shame to witness the decline of this national carrier British Airways treat their premium class customers with contempt This is what happens when an airline has a monopoly from Heathrow',\n",
       "       list(['London', 'Nashville', 'The', 'worst', 'airline', 'TransAtlantic', 'Despite', 'looking', 'forward', 'flying', 'new', 'route', 'Nashville', 'British', 'Airways', 'ruined', 'trip', 'The', 'flight', 'delayed', 'three', 'hours', 'whilst', 'ostensibly', 'replaced', 'damaged', 'aircraft', 'inbound', 'Boeing', '7879', 'San', 'Jose', 'The', 'airplane', 'filthy', 'dirty', 'Club', 'Class', 'bad', 'enough', 'suffer', 'awful', 'dated', 'Club', 'Class', 'yingyang', 'facing', 'narrow', 'seats', 'divider', 'Business', 'Class', 'British', 'Airways', 'worst', 'airline', 'The', 'WIFI', 'service', 'On', 'late', 'arrival', 'Nashville', 'luggage', 'arrived', 'soaking', 'wet', 'I', 'unable', 'change', 'clothes', 'On', 'return', 'UK', 'I', 'contacted', 'British', 'Airways', 'Customer', 'Relations', 'seek', 'compensation', 'got', 'usual', 'pathetic', 'mainly', 'computer', 'generated', 'insincere', 'apology', 'I', 'forced', 'haggle', 'British', 'Airways', 'endure', 'woeful', 'socalled', 'Customer', 'Relations', 'department', 'It', 'real', 'shame', 'witness', 'decline', 'national', 'carrier', 'British', 'Airways', 'treat', 'premium', 'class', 'customers', 'contempt', 'This', 'happens', 'airline', 'monopoly', 'Heathrow']),\n",
       "       'London Nashville The worst airline TransAtlantic Despite looking forward flying new route Nashville British Airways ruined trip The flight delayed three hours whilst ostensibly replaced damaged aircraft inbound Boeing 7879 San Jose The airplane filthy dirty Club Class bad enough suffer awful dated Club Class yingyang facing narrow seats divider Business Class British Airways worst airline The WIFI service late arrival Nashville luggage arrived soaking wet unable change clothes return contacted British Airways Customer Relations seek compensation got usual pathetic mainly computer generated insincere apology forced haggle British Airways endure woeful socalled Customer Relations department real shame witness decline national carrier British Airways treat premium class customers contempt This happens airline monopoly Heathrow',\n",
       "       'London Nashville The worst airline TransAtlantic Despite looking forward flying new route Nashville British Airways ruined trip The flight delayed three hours whilst ostensibly replaced damaged aircraft inbound Boeing 7879 San Jose The airplane filthy dirty Club Class bad enough suffer awful dated Club Class yingyang facing narrow seats divider Business Class British Airways worst airline The WIFI service late arrival Nashville luggage arrived soaking wet unable change clothes return contacted British Airways Customer Relations seek compensation got usual pathetic mainly computer generated insincere apology forced haggle British Airways endure woeful socalled Customer Relations department real shame witness decline national carrier British Airways treat premium class customers contempt This happens airline monopoly Heathrow',\n",
       "       'London Nashville The worst airline TransAtlantic Despite looking forward flying new route Nashville British Airways ruined trip The flight delayed three hours whilst ostensibly replaced damaged aircraft inbound Boeing 7879 San Jose The airplane filthy dirty Club Class bad enough suffer awful dated Club Class yingyang facing narrow seats divider Business Class British Airways worst airline The WIFI service late arrival Nashville luggage arrived soaking wet unable change clothes return contacted British Airways Customer Relations seek compensation got usual pathetic mainly computer generated insincere apology forced haggle British Airways endure woeful socalled Customer Relations department real shame witness decline national carrier British Airways treat premium class customers contempt This happens airline monopoly Heathrow',\n",
       "       True, 0.326, 0.648, 0.026, -0.9925, 'negative'], dtype=object)"
      ]
     },
     "execution_count": 39,
     "metadata": {},
     "output_type": "execute_result"
    }
   ],
   "source": [
    "# Review with highest negative sentiment \n",
    "Review.loc[Review['compound'].idxmin()].values"
   ]
  },
  {
   "cell_type": "markdown",
   "id": "276ed42e",
   "metadata": {},
   "source": [
    "#### Visualization/Analyse"
   ]
  },
  {
   "cell_type": "code",
   "execution_count": 64,
   "id": "e45978c8",
   "metadata": {},
   "outputs": [
    {
     "data": {
      "image/png": "[encoded data removed]",
      "text/plain": [
       "<Figure size 432x288 with 1 Axes>"
      ]
     },
     "metadata": {},
     "output_type": "display_data"
    }
   ],
   "source": [
    "# Number of Reviews \n",
    "sns.countplot(y='sentiment',\n",
    "             data=Review, \n",
    "             palette=['#b2d8d8',\"#008080\", '#db3d13']\n",
    "             );"
   ]
  },
  {
   "cell_type": "code",
   "execution_count": 63,
   "id": "e7addc29",
   "metadata": {},
   "outputs": [
    {
     "data": {
      "image/png": "[encoded data removed]",
      "text/plain": [
       "<Figure size 432x288 with 1 Axes>"
      ]
     },
     "metadata": {},
     "output_type": "display_data"
    }
   ],
   "source": [
    "# Number of Reviews by trip verified\n",
    "sns.countplot(y='Trip verified|Not verified',\n",
    "             data=Review, \n",
    "             hue='sentiment',\n",
    "             palette=['#b2d8d8',\"#008080\", '#db3d13']\n",
    "             );"
   ]
  },
  {
   "cell_type": "code",
   "execution_count": 41,
   "id": "896550c7",
   "metadata": {},
   "outputs": [
    {
     "data": {
      "text/plain": [
       "<AxesSubplot:xlabel='compound', ylabel='Count'>"
      ]
     },
     "execution_count": 41,
     "metadata": {},
     "output_type": "execute_result"
    },
    {
     "data": {
      "image/png": "[encoded data removed]",
      "text/plain": [
       "<Figure size 432x288 with 1 Axes>"
      ]
     },
     "metadata": {},
     "output_type": "display_data"
    }
   ],
   "source": [
    "# Distribution of sentiment score (compound)\n",
    "sns.histplot(Review['compound'], \n",
    "             bins=10, \n",
    "             kde=True, \n",
    "             color='skyblue'\n",
    "            )"
   ]
  },
  {
   "cell_type": "code",
   "execution_count": 42,
   "id": "f098ec7e",
   "metadata": {},
   "outputs": [
    {
     "data": {
      "text/plain": [
       "<AxesSubplot:ylabel='compound'>"
      ]
     },
     "execution_count": 42,
     "metadata": {},
     "output_type": "execute_result"
    },
    {
     "data": {
      "image/png": "[encoded data removed]",
      "text/plain": [
       "<Figure size 432x288 with 1 Axes>"
      ]
     },
     "metadata": {},
     "output_type": "display_data"
    }
   ],
   "source": [
    "sns.boxplot(y='compound', \n",
    "            data=Review, \n",
    "            palette='Set2')"
   ]
  },
  {
   "cell_type": "code",
   "execution_count": 43,
   "id": "956a3e83",
   "metadata": {},
   "outputs": [
    {
     "data": {
      "image/png": "[encoded data removed]",
      "text/plain": [
       "<Figure size 432x288 with 1 Axes>"
      ]
     },
     "metadata": {},
     "output_type": "display_data"
    }
   ],
   "source": [
    "# Boxplot\n",
    "sns.boxplot(y='compound', \n",
    "            x='sentiment',\n",
    "            palette=['#b2d8d8',\"#008080\", '#db3d13'], \n",
    "            data=Review);"
   ]
  },
  {
   "cell_type": "code",
   "execution_count": 44,
   "id": "0cf3a6c6",
   "metadata": {},
   "outputs": [
    {
     "data": {
      "text/plain": [
       "0.16425089999999995"
      ]
     },
     "execution_count": 44,
     "metadata": {},
     "output_type": "execute_result"
    }
   ],
   "source": [
    "# Average compound score:\n",
    "Review['compound'].mean()"
   ]
  },
  {
   "cell_type": "code",
   "execution_count": 45,
   "id": "f11fc490",
   "metadata": {},
   "outputs": [
    {
     "data": {
      "text/plain": [
       "5.808732047805558"
      ]
     },
     "execution_count": 45,
     "metadata": {},
     "output_type": "execute_result"
    }
   ],
   "source": [
    "# Convert the average compound score to scale of 0-10:\n",
    "import numpy as np\n",
    "min_value= np.min(Review['compound'])\n",
    "max_value= np.max(Review['compound'])\n",
    "range_of_original_data = max_value - min_value\n",
    "scaling_factor = 10 / range_of_original_data\n",
    "rescaled_data = (Review['compound'] - min_value) * scaling_factor\n",
    "rescaled_data.mean()"
   ]
  },
  {
   "cell_type": "code",
   "execution_count": 69,
   "id": "bf30c7b7",
   "metadata": {},
   "outputs": [
    {
     "data": {
      "text/plain": [
       "Id                            6\n",
       "Original reviews              6\n",
       "Trip verified|Not verified    6\n",
       "Reviews                       6\n",
       "text_token                    6\n",
       "text_string                   6\n",
       "text_string_fdist             6\n",
       "text_string_lem               6\n",
       "is_equal                      6\n",
       "neg                           6\n",
       "neu                           6\n",
       "pos                           6\n",
       "compound                      6\n",
       "sentiment                     6\n",
       "dtype: int64"
      ]
     },
     "execution_count": 69,
     "metadata": {},
     "output_type": "execute_result"
    }
   ],
   "source": [
    "Review[Review.sentiment=='neutral'].count()"
   ]
  },
  {
   "cell_type": "code",
   "execution_count": null,
   "id": "3d77b1c4",
   "metadata": {},
   "outputs": [],
   "source": []
  }
 ],
 "metadata": {
  "kernelspec": {
   "display_name": "Python 3",
   "language": "python",
   "name": "python3"
  },
  "language_info": {
   "codemirror_mode": {
    "name": "ipython",
    "version": 3
   },
   "file_extension": ".py",
   "mimetype": "text/x-python",
   "name": "python",
   "nbconvert_exporter": "python",
   "pygments_lexer": "ipython3",
   "version": "3.7.6"
  }
 },
 "nbformat": 4,
 "nbformat_minor": 5
}
